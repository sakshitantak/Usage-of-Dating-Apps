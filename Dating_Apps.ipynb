{
  "nbformat": 4,
  "nbformat_minor": 0,
  "metadata": {
    "colab": {
      "name": "Dating Apps.ipynb",
      "provenance": []
    },
    "kernelspec": {
      "name": "python3",
      "display_name": "Python 3"
    }
  },
  "cells": [
    {
      "cell_type": "code",
      "metadata": {
        "colab": {
          "base_uri": "https://localhost:8080/"
        },
        "id": "oZTD0Aojys54",
        "outputId": "e5c0a9f9-5b2c-418b-d2b5-869be39d2dd0"
      },
      "source": [
        "import nltk\r\n",
        "nltk.download('stopwords')\r\n",
        "!python3 -m spacy download en"
      ],
      "execution_count": 1,
      "outputs": [
        {
          "output_type": "stream",
          "text": [
            "[nltk_data] Downloading package stopwords to /root/nltk_data...\n",
            "[nltk_data]   Unzipping corpora/stopwords.zip.\n",
            "Requirement already satisfied: en_core_web_sm==2.2.5 from https://github.com/explosion/spacy-models/releases/download/en_core_web_sm-2.2.5/en_core_web_sm-2.2.5.tar.gz#egg=en_core_web_sm==2.2.5 in /usr/local/lib/python3.7/dist-packages (2.2.5)\n",
            "Requirement already satisfied: spacy>=2.2.2 in /usr/local/lib/python3.7/dist-packages (from en_core_web_sm==2.2.5) (2.2.4)\n",
            "Requirement already satisfied: cymem<2.1.0,>=2.0.2 in /usr/local/lib/python3.7/dist-packages (from spacy>=2.2.2->en_core_web_sm==2.2.5) (2.0.5)\n",
            "Requirement already satisfied: setuptools in /usr/local/lib/python3.7/dist-packages (from spacy>=2.2.2->en_core_web_sm==2.2.5) (53.0.0)\n",
            "Requirement already satisfied: blis<0.5.0,>=0.4.0 in /usr/local/lib/python3.7/dist-packages (from spacy>=2.2.2->en_core_web_sm==2.2.5) (0.4.1)\n",
            "Requirement already satisfied: plac<1.2.0,>=0.9.6 in /usr/local/lib/python3.7/dist-packages (from spacy>=2.2.2->en_core_web_sm==2.2.5) (1.1.3)\n",
            "Requirement already satisfied: murmurhash<1.1.0,>=0.28.0 in /usr/local/lib/python3.7/dist-packages (from spacy>=2.2.2->en_core_web_sm==2.2.5) (1.0.5)\n",
            "Requirement already satisfied: thinc==7.4.0 in /usr/local/lib/python3.7/dist-packages (from spacy>=2.2.2->en_core_web_sm==2.2.5) (7.4.0)\n",
            "Requirement already satisfied: tqdm<5.0.0,>=4.38.0 in /usr/local/lib/python3.7/dist-packages (from spacy>=2.2.2->en_core_web_sm==2.2.5) (4.41.1)\n",
            "Requirement already satisfied: catalogue<1.1.0,>=0.0.7 in /usr/local/lib/python3.7/dist-packages (from spacy>=2.2.2->en_core_web_sm==2.2.5) (1.0.0)\n",
            "Requirement already satisfied: preshed<3.1.0,>=3.0.2 in /usr/local/lib/python3.7/dist-packages (from spacy>=2.2.2->en_core_web_sm==2.2.5) (3.0.5)\n",
            "Requirement already satisfied: numpy>=1.15.0 in /usr/local/lib/python3.7/dist-packages (from spacy>=2.2.2->en_core_web_sm==2.2.5) (1.19.5)\n",
            "Requirement already satisfied: wasabi<1.1.0,>=0.4.0 in /usr/local/lib/python3.7/dist-packages (from spacy>=2.2.2->en_core_web_sm==2.2.5) (0.8.2)\n",
            "Requirement already satisfied: requests<3.0.0,>=2.13.0 in /usr/local/lib/python3.7/dist-packages (from spacy>=2.2.2->en_core_web_sm==2.2.5) (2.23.0)\n",
            "Requirement already satisfied: srsly<1.1.0,>=1.0.2 in /usr/local/lib/python3.7/dist-packages (from spacy>=2.2.2->en_core_web_sm==2.2.5) (1.0.5)\n",
            "Requirement already satisfied: importlib-metadata>=0.20; python_version < \"3.8\" in /usr/local/lib/python3.7/dist-packages (from catalogue<1.1.0,>=0.0.7->spacy>=2.2.2->en_core_web_sm==2.2.5) (3.4.0)\n",
            "Requirement already satisfied: urllib3!=1.25.0,!=1.25.1,<1.26,>=1.21.1 in /usr/local/lib/python3.7/dist-packages (from requests<3.0.0,>=2.13.0->spacy>=2.2.2->en_core_web_sm==2.2.5) (1.24.3)\n",
            "Requirement already satisfied: idna<3,>=2.5 in /usr/local/lib/python3.7/dist-packages (from requests<3.0.0,>=2.13.0->spacy>=2.2.2->en_core_web_sm==2.2.5) (2.10)\n",
            "Requirement already satisfied: certifi>=2017.4.17 in /usr/local/lib/python3.7/dist-packages (from requests<3.0.0,>=2.13.0->spacy>=2.2.2->en_core_web_sm==2.2.5) (2020.12.5)\n",
            "Requirement already satisfied: chardet<4,>=3.0.2 in /usr/local/lib/python3.7/dist-packages (from requests<3.0.0,>=2.13.0->spacy>=2.2.2->en_core_web_sm==2.2.5) (3.0.4)\n",
            "Requirement already satisfied: typing-extensions>=3.6.4; python_version < \"3.8\" in /usr/local/lib/python3.7/dist-packages (from importlib-metadata>=0.20; python_version < \"3.8\"->catalogue<1.1.0,>=0.0.7->spacy>=2.2.2->en_core_web_sm==2.2.5) (3.7.4.3)\n",
            "Requirement already satisfied: zipp>=0.5 in /usr/local/lib/python3.7/dist-packages (from importlib-metadata>=0.20; python_version < \"3.8\"->catalogue<1.1.0,>=0.0.7->spacy>=2.2.2->en_core_web_sm==2.2.5) (3.4.0)\n",
            "\u001b[38;5;2m✔ Download and installation successful\u001b[0m\n",
            "You can now load the model via spacy.load('en_core_web_sm')\n",
            "\u001b[38;5;2m✔ Linking successful\u001b[0m\n",
            "/usr/local/lib/python3.7/dist-packages/en_core_web_sm -->\n",
            "/usr/local/lib/python3.7/dist-packages/spacy/data/en\n",
            "You can now load the model via spacy.load('en')\n"
          ],
          "name": "stdout"
        }
      ]
    },
    {
      "cell_type": "code",
      "metadata": {
        "colab": {
          "base_uri": "https://localhost:8080/"
        },
        "id": "uReIL55U0ST3",
        "outputId": "5a2bed58-f3ae-4d00-f429-c2badb81a0cd"
      },
      "source": [
        "!pip install pyLDAvis"
      ],
      "execution_count": 2,
      "outputs": [
        {
          "output_type": "stream",
          "text": [
            "Collecting pyLDAvis\n",
            "\u001b[?25l  Downloading https://files.pythonhosted.org/packages/24/38/6d81eff34c84c9158d3b7c846bff978ac88b0c2665548941946d3d591158/pyLDAvis-3.2.2.tar.gz (1.7MB)\n",
            "\u001b[K     |████████████████████████████████| 1.7MB 5.8MB/s \n",
            "\u001b[?25hRequirement already satisfied: wheel>=0.23.0 in /usr/local/lib/python3.7/dist-packages (from pyLDAvis) (0.36.2)\n",
            "Requirement already satisfied: numpy>=1.9.2 in /usr/local/lib/python3.7/dist-packages (from pyLDAvis) (1.19.5)\n",
            "Requirement already satisfied: scipy>=0.18.0 in /usr/local/lib/python3.7/dist-packages (from pyLDAvis) (1.4.1)\n",
            "Requirement already satisfied: joblib>=0.8.4 in /usr/local/lib/python3.7/dist-packages (from pyLDAvis) (1.0.1)\n",
            "Requirement already satisfied: jinja2>=2.7.2 in /usr/local/lib/python3.7/dist-packages (from pyLDAvis) (2.11.3)\n",
            "Requirement already satisfied: numexpr in /usr/local/lib/python3.7/dist-packages (from pyLDAvis) (2.7.2)\n",
            "Requirement already satisfied: future in /usr/local/lib/python3.7/dist-packages (from pyLDAvis) (0.16.0)\n",
            "Collecting funcy\n",
            "  Downloading https://files.pythonhosted.org/packages/66/89/479de0afbbfb98d1c4b887936808764627300208bb771fcd823403645a36/funcy-1.15-py2.py3-none-any.whl\n",
            "Requirement already satisfied: pandas>=0.17.0 in /usr/local/lib/python3.7/dist-packages (from pyLDAvis) (1.1.5)\n",
            "Requirement already satisfied: MarkupSafe>=0.23 in /usr/local/lib/python3.7/dist-packages (from jinja2>=2.7.2->pyLDAvis) (1.1.1)\n",
            "Requirement already satisfied: python-dateutil>=2.7.3 in /usr/local/lib/python3.7/dist-packages (from pandas>=0.17.0->pyLDAvis) (2.8.1)\n",
            "Requirement already satisfied: pytz>=2017.2 in /usr/local/lib/python3.7/dist-packages (from pandas>=0.17.0->pyLDAvis) (2018.9)\n",
            "Requirement already satisfied: six>=1.5 in /usr/local/lib/python3.7/dist-packages (from python-dateutil>=2.7.3->pandas>=0.17.0->pyLDAvis) (1.15.0)\n",
            "Building wheels for collected packages: pyLDAvis\n",
            "  Building wheel for pyLDAvis (setup.py) ... \u001b[?25l\u001b[?25hdone\n",
            "  Created wheel for pyLDAvis: filename=pyLDAvis-3.2.2-py2.py3-none-any.whl size=135593 sha256=1969cd7fca6e9a4a8f7e78763c8929bf809ce97e68b90bd32de0553c49baf96f\n",
            "  Stored in directory: /root/.cache/pip/wheels/74/df/b6/97234c8446a43be05c9a8687ee0db1f1b5ade5f27729187eae\n",
            "Successfully built pyLDAvis\n",
            "Installing collected packages: funcy, pyLDAvis\n",
            "Successfully installed funcy-1.15 pyLDAvis-3.2.2\n"
          ],
          "name": "stdout"
        }
      ]
    },
    {
      "cell_type": "code",
      "metadata": {
        "id": "Uiy2CJXOzp8U",
        "colab": {
          "base_uri": "https://localhost:8080/"
        },
        "outputId": "628e1789-ba64-45dc-a445-068c8d53af14"
      },
      "source": [
        "import re\r\n",
        "import numpy as np\r\n",
        "import pandas as pd\r\n",
        "from pprint import pprint\r\n",
        "\r\n",
        "import gensim\r\n",
        "import gensim.corpora as corpora\r\n",
        "from gensim.utils import simple_preprocess\r\n",
        "from gensim.models import CoherenceModel\r\n",
        "\r\n",
        "import spacy\r\n",
        "import pyLDAvis\r\n",
        "import pyLDAvis.gensim\r\n",
        "import matplotlib.pyplot as plt\r\n",
        "%matplotlib inline\r\n",
        "\r\n",
        "import logging\r\n",
        "logging.basicConfig(format='%(asctime)s : %(levelname)s : %(message)s', level=logging.ERROR)\r\n",
        "\r\n",
        "import warnings\r\n",
        "warnings.filterwarnings(\"ignore\",category=DeprecationWarning)"
      ],
      "execution_count": 3,
      "outputs": [
        {
          "output_type": "stream",
          "text": [
            "/usr/local/lib/python3.7/dist-packages/past/types/oldstr.py:5: DeprecationWarning: Using or importing the ABCs from 'collections' instead of from 'collections.abc' is deprecated since Python 3.3,and in 3.9 it will stop working\n",
            "  from collections import Iterable\n"
          ],
          "name": "stderr"
        }
      ]
    },
    {
      "cell_type": "code",
      "metadata": {
        "id": "uv_z7B0o0Pfb"
      },
      "source": [
        "from nltk.corpus import stopwords\r\n",
        "stop_words = stopwords.words('english')\r\n",
        "#stop_words.extend(['from', 'subject', 're', 'use'])"
      ],
      "execution_count": 4,
      "outputs": []
    },
    {
      "cell_type": "code",
      "metadata": {
        "id": "i1JSRnJc0u48",
        "colab": {
          "base_uri": "https://localhost:8080/",
          "height": 419
        },
        "outputId": "fcc15860-d81d-4bd4-cf37-6fae630d42ea"
      },
      "source": [
        "df = pd.read_excel(\"/Usage of Dating Apps (Responses).xlsx\")\r\n",
        "columns = ['contact', 'reason_for_simultaneous']\r\n",
        "df_new = pd.DataFrame()\r\n",
        "for col in columns:\r\n",
        "  df_new[col] = df[col]\r\n",
        "\r\n",
        "df_new.columns"
      ],
      "execution_count": 68,
      "outputs": [
        {
          "output_type": "error",
          "ename": "FileNotFoundError",
          "evalue": "ignored",
          "traceback": [
            "\u001b[0;31m---------------------------------------------------------------------------\u001b[0m",
            "\u001b[0;31mFileNotFoundError\u001b[0m                         Traceback (most recent call last)",
            "\u001b[0;32m<ipython-input-68-8d82f3dbdea3>\u001b[0m in \u001b[0;36m<module>\u001b[0;34m()\u001b[0m\n\u001b[0;32m----> 1\u001b[0;31m \u001b[0mdf\u001b[0m \u001b[0;34m=\u001b[0m \u001b[0mpd\u001b[0m\u001b[0;34m.\u001b[0m\u001b[0mread_excel\u001b[0m\u001b[0;34m(\u001b[0m\u001b[0;34m\"Usage of Dating Apps (Responses).xlsx\"\u001b[0m\u001b[0;34m)\u001b[0m\u001b[0;34m\u001b[0m\u001b[0;34m\u001b[0m\u001b[0m\n\u001b[0m\u001b[1;32m      2\u001b[0m \u001b[0mcolumns\u001b[0m \u001b[0;34m=\u001b[0m \u001b[0;34m[\u001b[0m\u001b[0;34m'contact'\u001b[0m\u001b[0;34m,\u001b[0m \u001b[0;34m'reason_for_simultaneous'\u001b[0m\u001b[0;34m]\u001b[0m\u001b[0;34m\u001b[0m\u001b[0;34m\u001b[0m\u001b[0m\n\u001b[1;32m      3\u001b[0m \u001b[0mdf_new\u001b[0m \u001b[0;34m=\u001b[0m \u001b[0mpd\u001b[0m\u001b[0;34m.\u001b[0m\u001b[0mDataFrame\u001b[0m\u001b[0;34m(\u001b[0m\u001b[0;34m)\u001b[0m\u001b[0;34m\u001b[0m\u001b[0;34m\u001b[0m\u001b[0m\n\u001b[1;32m      4\u001b[0m \u001b[0;32mfor\u001b[0m \u001b[0mcol\u001b[0m \u001b[0;32min\u001b[0m \u001b[0mcolumns\u001b[0m\u001b[0;34m:\u001b[0m\u001b[0;34m\u001b[0m\u001b[0;34m\u001b[0m\u001b[0m\n\u001b[1;32m      5\u001b[0m   \u001b[0mdf_new\u001b[0m\u001b[0;34m[\u001b[0m\u001b[0mcol\u001b[0m\u001b[0;34m]\u001b[0m \u001b[0;34m=\u001b[0m \u001b[0mdf\u001b[0m\u001b[0;34m[\u001b[0m\u001b[0mcol\u001b[0m\u001b[0;34m]\u001b[0m\u001b[0;34m\u001b[0m\u001b[0;34m\u001b[0m\u001b[0m\n",
            "\u001b[0;32m/usr/local/lib/python3.7/dist-packages/pandas/util/_decorators.py\u001b[0m in \u001b[0;36mwrapper\u001b[0;34m(*args, **kwargs)\u001b[0m\n\u001b[1;32m    294\u001b[0m                 )\n\u001b[1;32m    295\u001b[0m                 \u001b[0mwarnings\u001b[0m\u001b[0;34m.\u001b[0m\u001b[0mwarn\u001b[0m\u001b[0;34m(\u001b[0m\u001b[0mmsg\u001b[0m\u001b[0;34m,\u001b[0m \u001b[0mFutureWarning\u001b[0m\u001b[0;34m,\u001b[0m \u001b[0mstacklevel\u001b[0m\u001b[0;34m=\u001b[0m\u001b[0mstacklevel\u001b[0m\u001b[0;34m)\u001b[0m\u001b[0;34m\u001b[0m\u001b[0;34m\u001b[0m\u001b[0m\n\u001b[0;32m--> 296\u001b[0;31m             \u001b[0;32mreturn\u001b[0m \u001b[0mfunc\u001b[0m\u001b[0;34m(\u001b[0m\u001b[0;34m*\u001b[0m\u001b[0margs\u001b[0m\u001b[0;34m,\u001b[0m \u001b[0;34m**\u001b[0m\u001b[0mkwargs\u001b[0m\u001b[0;34m)\u001b[0m\u001b[0;34m\u001b[0m\u001b[0;34m\u001b[0m\u001b[0m\n\u001b[0m\u001b[1;32m    297\u001b[0m \u001b[0;34m\u001b[0m\u001b[0m\n\u001b[1;32m    298\u001b[0m         \u001b[0;32mreturn\u001b[0m \u001b[0mwrapper\u001b[0m\u001b[0;34m\u001b[0m\u001b[0;34m\u001b[0m\u001b[0m\n",
            "\u001b[0;32m/usr/local/lib/python3.7/dist-packages/pandas/io/excel/_base.py\u001b[0m in \u001b[0;36mread_excel\u001b[0;34m(io, sheet_name, header, names, index_col, usecols, squeeze, dtype, engine, converters, true_values, false_values, skiprows, nrows, na_values, keep_default_na, na_filter, verbose, parse_dates, date_parser, thousands, comment, skipfooter, convert_float, mangle_dupe_cols)\u001b[0m\n\u001b[1;32m    302\u001b[0m \u001b[0;34m\u001b[0m\u001b[0m\n\u001b[1;32m    303\u001b[0m     \u001b[0;32mif\u001b[0m \u001b[0;32mnot\u001b[0m \u001b[0misinstance\u001b[0m\u001b[0;34m(\u001b[0m\u001b[0mio\u001b[0m\u001b[0;34m,\u001b[0m \u001b[0mExcelFile\u001b[0m\u001b[0;34m)\u001b[0m\u001b[0;34m:\u001b[0m\u001b[0;34m\u001b[0m\u001b[0;34m\u001b[0m\u001b[0m\n\u001b[0;32m--> 304\u001b[0;31m         \u001b[0mio\u001b[0m \u001b[0;34m=\u001b[0m \u001b[0mExcelFile\u001b[0m\u001b[0;34m(\u001b[0m\u001b[0mio\u001b[0m\u001b[0;34m,\u001b[0m \u001b[0mengine\u001b[0m\u001b[0;34m=\u001b[0m\u001b[0mengine\u001b[0m\u001b[0;34m)\u001b[0m\u001b[0;34m\u001b[0m\u001b[0;34m\u001b[0m\u001b[0m\n\u001b[0m\u001b[1;32m    305\u001b[0m     \u001b[0;32melif\u001b[0m \u001b[0mengine\u001b[0m \u001b[0;32mand\u001b[0m \u001b[0mengine\u001b[0m \u001b[0;34m!=\u001b[0m \u001b[0mio\u001b[0m\u001b[0;34m.\u001b[0m\u001b[0mengine\u001b[0m\u001b[0;34m:\u001b[0m\u001b[0;34m\u001b[0m\u001b[0;34m\u001b[0m\u001b[0m\n\u001b[1;32m    306\u001b[0m         raise ValueError(\n",
            "\u001b[0;32m/usr/local/lib/python3.7/dist-packages/pandas/io/excel/_base.py\u001b[0m in \u001b[0;36m__init__\u001b[0;34m(self, path_or_buffer, engine)\u001b[0m\n\u001b[1;32m    865\u001b[0m         \u001b[0mself\u001b[0m\u001b[0;34m.\u001b[0m\u001b[0m_io\u001b[0m \u001b[0;34m=\u001b[0m \u001b[0mstringify_path\u001b[0m\u001b[0;34m(\u001b[0m\u001b[0mpath_or_buffer\u001b[0m\u001b[0;34m)\u001b[0m\u001b[0;34m\u001b[0m\u001b[0;34m\u001b[0m\u001b[0m\n\u001b[1;32m    866\u001b[0m \u001b[0;34m\u001b[0m\u001b[0m\n\u001b[0;32m--> 867\u001b[0;31m         \u001b[0mself\u001b[0m\u001b[0;34m.\u001b[0m\u001b[0m_reader\u001b[0m \u001b[0;34m=\u001b[0m \u001b[0mself\u001b[0m\u001b[0;34m.\u001b[0m\u001b[0m_engines\u001b[0m\u001b[0;34m[\u001b[0m\u001b[0mengine\u001b[0m\u001b[0;34m]\u001b[0m\u001b[0;34m(\u001b[0m\u001b[0mself\u001b[0m\u001b[0;34m.\u001b[0m\u001b[0m_io\u001b[0m\u001b[0;34m)\u001b[0m\u001b[0;34m\u001b[0m\u001b[0;34m\u001b[0m\u001b[0m\n\u001b[0m\u001b[1;32m    868\u001b[0m \u001b[0;34m\u001b[0m\u001b[0m\n\u001b[1;32m    869\u001b[0m     \u001b[0;32mdef\u001b[0m \u001b[0m__fspath__\u001b[0m\u001b[0;34m(\u001b[0m\u001b[0mself\u001b[0m\u001b[0;34m)\u001b[0m\u001b[0;34m:\u001b[0m\u001b[0;34m\u001b[0m\u001b[0;34m\u001b[0m\u001b[0m\n",
            "\u001b[0;32m/usr/local/lib/python3.7/dist-packages/pandas/io/excel/_xlrd.py\u001b[0m in \u001b[0;36m__init__\u001b[0;34m(self, filepath_or_buffer)\u001b[0m\n\u001b[1;32m     20\u001b[0m         \u001b[0merr_msg\u001b[0m \u001b[0;34m=\u001b[0m \u001b[0;34m\"Install xlrd >= 1.0.0 for Excel support\"\u001b[0m\u001b[0;34m\u001b[0m\u001b[0;34m\u001b[0m\u001b[0m\n\u001b[1;32m     21\u001b[0m         \u001b[0mimport_optional_dependency\u001b[0m\u001b[0;34m(\u001b[0m\u001b[0;34m\"xlrd\"\u001b[0m\u001b[0;34m,\u001b[0m \u001b[0mextra\u001b[0m\u001b[0;34m=\u001b[0m\u001b[0merr_msg\u001b[0m\u001b[0;34m)\u001b[0m\u001b[0;34m\u001b[0m\u001b[0;34m\u001b[0m\u001b[0m\n\u001b[0;32m---> 22\u001b[0;31m         \u001b[0msuper\u001b[0m\u001b[0;34m(\u001b[0m\u001b[0;34m)\u001b[0m\u001b[0;34m.\u001b[0m\u001b[0m__init__\u001b[0m\u001b[0;34m(\u001b[0m\u001b[0mfilepath_or_buffer\u001b[0m\u001b[0;34m)\u001b[0m\u001b[0;34m\u001b[0m\u001b[0;34m\u001b[0m\u001b[0m\n\u001b[0m\u001b[1;32m     23\u001b[0m \u001b[0;34m\u001b[0m\u001b[0m\n\u001b[1;32m     24\u001b[0m     \u001b[0;34m@\u001b[0m\u001b[0mproperty\u001b[0m\u001b[0;34m\u001b[0m\u001b[0;34m\u001b[0m\u001b[0m\n",
            "\u001b[0;32m/usr/local/lib/python3.7/dist-packages/pandas/io/excel/_base.py\u001b[0m in \u001b[0;36m__init__\u001b[0;34m(self, filepath_or_buffer)\u001b[0m\n\u001b[1;32m    351\u001b[0m             \u001b[0mself\u001b[0m\u001b[0;34m.\u001b[0m\u001b[0mbook\u001b[0m \u001b[0;34m=\u001b[0m \u001b[0mself\u001b[0m\u001b[0;34m.\u001b[0m\u001b[0mload_workbook\u001b[0m\u001b[0;34m(\u001b[0m\u001b[0mfilepath_or_buffer\u001b[0m\u001b[0;34m)\u001b[0m\u001b[0;34m\u001b[0m\u001b[0;34m\u001b[0m\u001b[0m\n\u001b[1;32m    352\u001b[0m         \u001b[0;32melif\u001b[0m \u001b[0misinstance\u001b[0m\u001b[0;34m(\u001b[0m\u001b[0mfilepath_or_buffer\u001b[0m\u001b[0;34m,\u001b[0m \u001b[0mstr\u001b[0m\u001b[0;34m)\u001b[0m\u001b[0;34m:\u001b[0m\u001b[0;34m\u001b[0m\u001b[0;34m\u001b[0m\u001b[0m\n\u001b[0;32m--> 353\u001b[0;31m             \u001b[0mself\u001b[0m\u001b[0;34m.\u001b[0m\u001b[0mbook\u001b[0m \u001b[0;34m=\u001b[0m \u001b[0mself\u001b[0m\u001b[0;34m.\u001b[0m\u001b[0mload_workbook\u001b[0m\u001b[0;34m(\u001b[0m\u001b[0mfilepath_or_buffer\u001b[0m\u001b[0;34m)\u001b[0m\u001b[0;34m\u001b[0m\u001b[0;34m\u001b[0m\u001b[0m\n\u001b[0m\u001b[1;32m    354\u001b[0m         \u001b[0;32melif\u001b[0m \u001b[0misinstance\u001b[0m\u001b[0;34m(\u001b[0m\u001b[0mfilepath_or_buffer\u001b[0m\u001b[0;34m,\u001b[0m \u001b[0mbytes\u001b[0m\u001b[0;34m)\u001b[0m\u001b[0;34m:\u001b[0m\u001b[0;34m\u001b[0m\u001b[0;34m\u001b[0m\u001b[0m\n\u001b[1;32m    355\u001b[0m             \u001b[0mself\u001b[0m\u001b[0;34m.\u001b[0m\u001b[0mbook\u001b[0m \u001b[0;34m=\u001b[0m \u001b[0mself\u001b[0m\u001b[0;34m.\u001b[0m\u001b[0mload_workbook\u001b[0m\u001b[0;34m(\u001b[0m\u001b[0mBytesIO\u001b[0m\u001b[0;34m(\u001b[0m\u001b[0mfilepath_or_buffer\u001b[0m\u001b[0;34m)\u001b[0m\u001b[0;34m)\u001b[0m\u001b[0;34m\u001b[0m\u001b[0;34m\u001b[0m\u001b[0m\n",
            "\u001b[0;32m/usr/local/lib/python3.7/dist-packages/pandas/io/excel/_xlrd.py\u001b[0m in \u001b[0;36mload_workbook\u001b[0;34m(self, filepath_or_buffer)\u001b[0m\n\u001b[1;32m     35\u001b[0m             \u001b[0;32mreturn\u001b[0m \u001b[0mopen_workbook\u001b[0m\u001b[0;34m(\u001b[0m\u001b[0mfile_contents\u001b[0m\u001b[0;34m=\u001b[0m\u001b[0mdata\u001b[0m\u001b[0;34m)\u001b[0m\u001b[0;34m\u001b[0m\u001b[0;34m\u001b[0m\u001b[0m\n\u001b[1;32m     36\u001b[0m         \u001b[0;32melse\u001b[0m\u001b[0;34m:\u001b[0m\u001b[0;34m\u001b[0m\u001b[0;34m\u001b[0m\u001b[0m\n\u001b[0;32m---> 37\u001b[0;31m             \u001b[0;32mreturn\u001b[0m \u001b[0mopen_workbook\u001b[0m\u001b[0;34m(\u001b[0m\u001b[0mfilepath_or_buffer\u001b[0m\u001b[0;34m)\u001b[0m\u001b[0;34m\u001b[0m\u001b[0;34m\u001b[0m\u001b[0m\n\u001b[0m\u001b[1;32m     38\u001b[0m \u001b[0;34m\u001b[0m\u001b[0m\n\u001b[1;32m     39\u001b[0m     \u001b[0;34m@\u001b[0m\u001b[0mproperty\u001b[0m\u001b[0;34m\u001b[0m\u001b[0;34m\u001b[0m\u001b[0m\n",
            "\u001b[0;32m/usr/local/lib/python3.7/dist-packages/xlrd/__init__.py\u001b[0m in \u001b[0;36mopen_workbook\u001b[0;34m(filename, logfile, verbosity, use_mmap, file_contents, encoding_override, formatting_info, on_demand, ragged_rows)\u001b[0m\n\u001b[1;32m    114\u001b[0m         \u001b[0mpeek\u001b[0m \u001b[0;34m=\u001b[0m \u001b[0mfile_contents\u001b[0m\u001b[0;34m[\u001b[0m\u001b[0;34m:\u001b[0m\u001b[0mpeeksz\u001b[0m\u001b[0;34m]\u001b[0m\u001b[0;34m\u001b[0m\u001b[0;34m\u001b[0m\u001b[0m\n\u001b[1;32m    115\u001b[0m     \u001b[0;32melse\u001b[0m\u001b[0;34m:\u001b[0m\u001b[0;34m\u001b[0m\u001b[0;34m\u001b[0m\u001b[0m\n\u001b[0;32m--> 116\u001b[0;31m         \u001b[0;32mwith\u001b[0m \u001b[0mopen\u001b[0m\u001b[0;34m(\u001b[0m\u001b[0mfilename\u001b[0m\u001b[0;34m,\u001b[0m \u001b[0;34m\"rb\"\u001b[0m\u001b[0;34m)\u001b[0m \u001b[0;32mas\u001b[0m \u001b[0mf\u001b[0m\u001b[0;34m:\u001b[0m\u001b[0;34m\u001b[0m\u001b[0;34m\u001b[0m\u001b[0m\n\u001b[0m\u001b[1;32m    117\u001b[0m             \u001b[0mpeek\u001b[0m \u001b[0;34m=\u001b[0m \u001b[0mf\u001b[0m\u001b[0;34m.\u001b[0m\u001b[0mread\u001b[0m\u001b[0;34m(\u001b[0m\u001b[0mpeeksz\u001b[0m\u001b[0;34m)\u001b[0m\u001b[0;34m\u001b[0m\u001b[0;34m\u001b[0m\u001b[0m\n\u001b[1;32m    118\u001b[0m     \u001b[0;32mif\u001b[0m \u001b[0mpeek\u001b[0m \u001b[0;34m==\u001b[0m \u001b[0;34mb\"PK\\x03\\x04\"\u001b[0m\u001b[0;34m:\u001b[0m \u001b[0;31m# a ZIP file\u001b[0m\u001b[0;34m\u001b[0m\u001b[0;34m\u001b[0m\u001b[0m\n",
            "\u001b[0;31mFileNotFoundError\u001b[0m: [Errno 2] No such file or directory: 'Usage of Dating Apps (Responses).xlsx'"
          ]
        }
      ]
    },
    {
      "cell_type": "code",
      "metadata": {
        "colab": {
          "base_uri": "https://localhost:8080/"
        },
        "id": "Lp5NHPh_aNhB",
        "outputId": "a84ccd04-ae91-435e-e0db-f8687d4cc498"
      },
      "source": [
        "df_new = df_new[df_new['reason_for_simultaneous'].notna()]\r\n",
        "data = df_new.reason_for_simultaneous.values.tolist()\r\n",
        "\r\n",
        "def sent_to_words(sentences):\r\n",
        "  for sentence in sentences:\r\n",
        "    yield(gensim.utils.simple_preprocess(str(sentence), deacc=True))\r\n",
        "\r\n",
        "data_words = list(sent_to_words(data))\r\n",
        "print(data_words[:1])"
      ],
      "execution_count": 27,
      "outputs": [
        {
          "output_type": "stream",
          "text": [
            "[['the', 'profile', 'may', 'seem', 'interesting', 'but', 'the', 'person', 'may', 'not', 'end', 'up', 'matching', 'my', 'expectations', 'or', 'may', 'have', 'certain', 'beliefs', 'that', 'are', 'conflicting', 'to', 'mine', 'out', 'of', 'the', 'matches', 'might', 'probably', 'form', 'connection', 'with', 'probably', 'of', 'them', 'conversing', 'with', 'all', 'will', 'be', 'chaotic', 'and', 'won', 'be', 'able', 'to', 'have', 'good', 'conversation', 'with', 'any', 'of', 'them']]\n"
          ],
          "name": "stdout"
        }
      ]
    },
    {
      "cell_type": "code",
      "metadata": {
        "id": "WfR1A7lfgmTR"
      },
      "source": [
        "data"
      ],
      "execution_count": null,
      "outputs": []
    },
    {
      "cell_type": "code",
      "metadata": {
        "colab": {
          "base_uri": "https://localhost:8080/"
        },
        "id": "VfWUwqK3goV2",
        "outputId": "1b26ba9f-5778-4c9f-e016-d58a8435fabd"
      },
      "source": [
        "bigram = gensim.models.Phrases(data_words, min_count = 5, threshold = 100)\r\n",
        "trigram = gensim.models.Phrases(bigram[data_words], threshold = 100)"
      ],
      "execution_count": 32,
      "outputs": [
        {
          "output_type": "stream",
          "text": [
            "/usr/local/lib/python3.7/dist-packages/gensim/models/phrases.py:598: UserWarning: For a faster implementation, use the gensim.models.phrases.Phraser class\n",
            "  warnings.warn(\"For a faster implementation, use the gensim.models.phrases.Phraser class\")\n"
          ],
          "name": "stderr"
        }
      ]
    },
    {
      "cell_type": "code",
      "metadata": {
        "id": "B1lCuKrvhvR2"
      },
      "source": [
        "bigram_mod = gensim.models.phrases.Phraser(bigram)\r\n",
        "trigram_mod = gensim.models.phrases.Phraser(trigram)"
      ],
      "execution_count": 33,
      "outputs": []
    },
    {
      "cell_type": "code",
      "metadata": {
        "colab": {
          "base_uri": "https://localhost:8080/"
        },
        "id": "F9q-j4Cch9h1",
        "outputId": "89c26716-8ceb-4d2b-ca7d-c8f690b75d17"
      },
      "source": [
        "print(trigram_mod[bigram_mod[data_words[0]]])"
      ],
      "execution_count": 34,
      "outputs": [
        {
          "output_type": "stream",
          "text": [
            "['the', 'profile', 'may', 'seem', 'interesting', 'but', 'the', 'person', 'may', 'not', 'end', 'up', 'matching', 'my', 'expectations', 'or', 'may', 'have', 'certain', 'beliefs', 'that', 'are', 'conflicting', 'to', 'mine', 'out', 'of', 'the', 'matches', 'might', 'probably', 'form', 'connection', 'with', 'probably', 'of', 'them', 'conversing', 'with', 'all', 'will', 'be', 'chaotic', 'and', 'won', 'be', 'able', 'to', 'have', 'good', 'conversation', 'with', 'any', 'of', 'them']\n"
          ],
          "name": "stdout"
        }
      ]
    },
    {
      "cell_type": "code",
      "metadata": {
        "id": "91FxJoLBiKwr"
      },
      "source": [
        "def remove_stopwords(texts):\r\n",
        "  return[[word for word in simple_preprocess(str(doc)) if word not in stop_words] for doc in texts]\r\n",
        "\r\n",
        "def make_bigrams(texts):\r\n",
        "  return[bigram_mod[doc] for doc in texts]\r\n",
        "\r\n",
        "def make_trigrams(texts):\r\n",
        "  return[trigram_mod[bigram_mod[doc]] for doc in texts]\r\n",
        "\r\n",
        "def lemmatization(texts, allowed_postags = ['NOUN', 'ADJ', 'VERB', 'ADV']):\r\n",
        "  texts_out = []\r\n",
        "  for sent in texts:\r\n",
        "    doc = nlp(\" \".join(sent))\r\n",
        "    texts_out.append([token.lemma_ for token in  doc if token.pos_ in allowed_postags])\r\n",
        "  return texts_out"
      ],
      "execution_count": 45,
      "outputs": []
    },
    {
      "cell_type": "code",
      "metadata": {
        "colab": {
          "base_uri": "https://localhost:8080/"
        },
        "id": "YuuBZDOJl-zz",
        "outputId": "ad00f3cc-1c99-4c49-a64f-51b47e27f6c7"
      },
      "source": [
        "data_words_nostops = remove_stopwords(data_words)\r\n",
        "data_words_bigrams = make_bigrams(data_words_nostops)\r\n",
        "\r\n",
        "nlp = spacy.load('en', disable = ['parser', 'ner'])\r\n",
        "\r\n",
        "data_lemmatized = lemmatization(data_words_bigrams, allowed_postags = ['NOUN', 'ADJ', 'VERB', 'ADV'])\r\n",
        "print(data_lemmatized[:1])"
      ],
      "execution_count": 46,
      "outputs": [
        {
          "output_type": "stream",
          "text": [
            "[['profile', 'may', 'seem', 'interesting', 'person', 'may', 'end', 'matching', 'expectation', 'may', 'certain', 'belief', 'conflict', 'mine', 'match', 'may', 'probably', 'form', 'connection', 'probably', 'converse', 'chaotic', 'able', 'good', 'conversation']]\n"
          ],
          "name": "stdout"
        }
      ]
    },
    {
      "cell_type": "code",
      "metadata": {
        "colab": {
          "base_uri": "https://localhost:8080/"
        },
        "id": "m3S9cYlYnO-e",
        "outputId": "520460bd-96f8-4a26-ef67-844916429c5f"
      },
      "source": [
        "id2word = corpora.Dictionary(data_lemmatized)\r\n",
        "texts = data_lemmatized\r\n",
        "\r\n",
        "corpus = [id2word.doc2bow(text) for text in texts]\r\n",
        "\r\n",
        "print(corpus[:1])"
      ],
      "execution_count": 50,
      "outputs": [
        {
          "output_type": "stream",
          "text": [
            "[[(0, 1), (1, 1), (2, 1), (3, 1), (4, 1), (5, 1), (6, 1), (7, 1), (8, 1), (9, 1), (10, 1), (11, 1), (12, 1), (13, 1), (14, 1), (15, 4), (16, 1), (17, 1), (18, 2), (19, 1), (20, 1)]]\n"
          ],
          "name": "stdout"
        }
      ]
    },
    {
      "cell_type": "code",
      "metadata": {
        "colab": {
          "base_uri": "https://localhost:8080/",
          "height": 36
        },
        "id": "JiPx5geKpkZu",
        "outputId": "ce89c1e3-1c13-4569-d3d9-c3043904fe1a"
      },
      "source": [
        "id2word[0]"
      ],
      "execution_count": 51,
      "outputs": [
        {
          "output_type": "execute_result",
          "data": {
            "application/vnd.google.colaboratory.intrinsic+json": {
              "type": "string"
            },
            "text/plain": [
              "'able'"
            ]
          },
          "metadata": {
            "tags": []
          },
          "execution_count": 51
        }
      ]
    },
    {
      "cell_type": "code",
      "metadata": {
        "colab": {
          "base_uri": "https://localhost:8080/"
        },
        "id": "qVz1y5XnptkG",
        "outputId": "4ac62728-469e-4235-80f0-d73dec8068a8"
      },
      "source": [
        "[[(id2word[ id], freq) for id, freq in cp] for cp in corpus[:1]]"
      ],
      "execution_count": 53,
      "outputs": [
        {
          "output_type": "execute_result",
          "data": {
            "text/plain": [
              "[[('able', 1),\n",
              "  ('belief', 1),\n",
              "  ('certain', 1),\n",
              "  ('chaotic', 1),\n",
              "  ('conflict', 1),\n",
              "  ('connection', 1),\n",
              "  ('conversation', 1),\n",
              "  ('converse', 1),\n",
              "  ('end', 1),\n",
              "  ('expectation', 1),\n",
              "  ('form', 1),\n",
              "  ('good', 1),\n",
              "  ('interesting', 1),\n",
              "  ('match', 1),\n",
              "  ('matching', 1),\n",
              "  ('may', 4),\n",
              "  ('mine', 1),\n",
              "  ('person', 1),\n",
              "  ('probably', 2),\n",
              "  ('profile', 1),\n",
              "  ('seem', 1)]]"
            ]
          },
          "metadata": {
            "tags": []
          },
          "execution_count": 53
        }
      ]
    },
    {
      "cell_type": "code",
      "metadata": {
        "id": "UrhcUq2nqIX3"
      },
      "source": [
        "num_topics = 20\r\n",
        "lda_model = gensim.models.ldamodel.LdaModel(corpus = corpus,\r\n",
        "                                   id2word = id2word,\r\n",
        "                                   num_topics = num_topics,\r\n",
        "                                   random_state = 42,\r\n",
        "                                   update_every = 1,\r\n",
        "                                   chunksize = 100,\r\n",
        "                                   passes = 10,\r\n",
        "                                   alpha = 'auto',\r\n",
        "                                   per_word_topics = True\r\n",
        "                                   )"
      ],
      "execution_count": 63,
      "outputs": []
    },
    {
      "cell_type": "code",
      "metadata": {
        "colab": {
          "base_uri": "https://localhost:8080/"
        },
        "id": "8thSwey1q3P_",
        "outputId": "59206dcc-3c27-4b67-a5a2-bb14caafa7e4"
      },
      "source": [
        "pprint(lda_model.print_topics())\r\n",
        "doc_lda = lda_model"
      ],
      "execution_count": 64,
      "outputs": [
        {
          "output_type": "stream",
          "text": [
            "[(0,\n",
            "  '0.115*\"interesting\" + 0.115*\"conversation\" + 0.115*\"life\" + 0.005*\"rude\" + '\n",
            "  '0.005*\"stranger\" + 0.005*\"hang\" + 0.005*\"leave\" + 0.005*\"option\" + '\n",
            "  '0.005*\"difficult\" + 0.005*\"free\"'),\n",
            " (1,\n",
            "  '0.095*\"conversation\" + 0.095*\"interesting\" + 0.095*\"hold\" + 0.095*\"come\" + '\n",
            "  '0.095*\"man\" + 0.005*\"may\" + 0.005*\"probably\" + 0.005*\"connection\" + '\n",
            "  '0.005*\"chaotic\" + 0.005*\"converse\"'),\n",
            " (2,\n",
            "  '0.104*\"maybe\" + 0.104*\"idea\" + 0.104*\"people\" + 0.104*\"know\" + '\n",
            "  '0.005*\"leave\" + 0.005*\"rude\" + 0.005*\"stranger\" + 0.005*\"hang\" + '\n",
            "  '0.005*\"difficult\" + 0.005*\"option\"'),\n",
            " (3,\n",
            "  '0.148*\"interesting\" + 0.007*\"leave\" + 0.007*\"option\" + 0.007*\"difficult\" + '\n",
            "  '0.007*\"little\" + 0.007*\"stranger\" + 0.007*\"hang\" + 0.007*\"comeback\" + '\n",
            "  '0.007*\"hard\" + 0.007*\"free\"'),\n",
            " (4,\n",
            "  '0.156*\"feel\" + 0.156*\"want\" + 0.080*\"really\" + 0.080*\"chaotic\" + '\n",
            "  '0.080*\"ghostin\" + 0.004*\"wrong\" + 0.004*\"conversation\" + 0.004*\"able\" + '\n",
            "  '0.004*\"talk\" + 0.004*\"many\"'),\n",
            " (5,\n",
            "  '0.062*\"get\" + 0.062*\"talk\" + 0.047*\"difficult\" + 0.047*\"many\" + '\n",
            "  '0.047*\"people\" + 0.047*\"app\" + 0.016*\"lot\" + 0.016*\"low\" + '\n",
            "  '0.016*\"conclusion\" + 0.016*\"make\"'),\n",
            " (6,\n",
            "  '0.008*\"leave\" + 0.008*\"sound\" + 0.008*\"difficult\" + 0.008*\"little\" + '\n",
            "  '0.008*\"stranger\" + 0.008*\"hang\" + 0.008*\"comeback\" + 0.008*\"option\" + '\n",
            "  '0.008*\"arrive\" + 0.008*\"hard\"'),\n",
            " (7,\n",
            "  '0.148*\"fun\" + 0.007*\"leave\" + 0.007*\"sound\" + 0.007*\"little\" + '\n",
            "  '0.007*\"stranger\" + 0.007*\"hang\" + 0.007*\"compare\" + 0.007*\"option\" + '\n",
            "  '0.007*\"arrive\" + 0.007*\"hard\"'),\n",
            " (8,\n",
            "  '0.058*\"people\" + 0.058*\"want\" + 0.058*\"hang\" + 0.058*\"leave\" + 0.058*\"good\" '\n",
            "  '+ 0.058*\"option\" + 0.058*\"sound\" + 0.058*\"much\" + 0.058*\"divide\" + '\n",
            "  '0.058*\"difficult\"'),\n",
            " (9,\n",
            "  '0.074*\"invest\" + 0.074*\"genuinely\" + 0.074*\"many\" + 0.074*\"talk\" + '\n",
            "  '0.074*\"able\" + 0.074*\"conversation\" + 0.074*\"wrong\" + 0.074*\"feel\" + '\n",
            "  '0.004*\"hang\" + 0.004*\"sound\"'),\n",
            " (10,\n",
            "  '0.115*\"interest\" + 0.115*\"find\" + 0.115*\"common\" + 0.005*\"sound\" + '\n",
            "  '0.005*\"stranger\" + 0.005*\"hang\" + 0.005*\"leave\" + 0.005*\"difficult\" + '\n",
            "  '0.005*\"option\" + 0.005*\"arrive\"'),\n",
            " (11,\n",
            "  '0.008*\"leave\" + 0.008*\"sound\" + 0.008*\"difficult\" + 0.008*\"little\" + '\n",
            "  '0.008*\"stranger\" + 0.008*\"hang\" + 0.008*\"comeback\" + 0.008*\"option\" + '\n",
            "  '0.008*\"arrive\" + 0.008*\"hard\"'),\n",
            " (12,\n",
            "  '0.136*\"people\" + 0.070*\"multiple\" + 0.070*\"talk\" + 0.070*\"tedious\" + '\n",
            "  '0.070*\"shortlisting\" + 0.070*\"keep\" + 0.070*\"bring\" + 0.070*\"cause\" + '\n",
            "  '0.003*\"sound\" + 0.003*\"option\"'),\n",
            " (13,\n",
            "  '0.160*\"time\" + 0.055*\"person\" + 0.055*\"match\" + 0.055*\"quality\" + '\n",
            "  '0.055*\"reply\" + 0.055*\"interesting\" + 0.055*\"conversation\" + 0.055*\"free\" + '\n",
            "  '0.055*\"much\" + 0.055*\"take\"'),\n",
            " (14,\n",
            "  '0.120*\"conversation\" + 0.120*\"keep\" + 0.061*\"overwhelming\" + 0.061*\"tend\" + '\n",
            "  '0.061*\"many\" + 0.061*\"be\" + 0.061*\"hard\" + 0.061*\"mix\" + 0.061*\"back\" + '\n",
            "  '0.003*\"app\"'),\n",
            " (15,\n",
            "  '0.109*\"talk\" + 0.109*\"people\" + 0.073*\"many\" + 0.073*\"time\" + 0.073*\"get\" + '\n",
            "  '0.037*\"answer\" + 0.037*\"new\" + 0.037*\"lifetime\" + 0.037*\"give\" + '\n",
            "  '0.037*\"hard\"'),\n",
            " (16,\n",
            "  '0.130*\"may\" + 0.066*\"probably\" + 0.034*\"interesting\" + 0.034*\"belief\" + '\n",
            "  '0.034*\"seem\" + 0.034*\"profile\" + 0.034*\"person\" + 0.034*\"mine\" + '\n",
            "  '0.034*\"matching\" + 0.034*\"match\"'),\n",
            " (17,\n",
            "  '0.070*\"app\" + 0.070*\"mind\" + 0.070*\"mental\" + 0.070*\"illness\" + '\n",
            "  '0.070*\"freak\" + 0.070*\"use\" + 0.070*\"bored\" + 0.070*\"cope\" + '\n",
            "  '0.070*\"basically\" + 0.003*\"little\"'),\n",
            " (18,\n",
            "  '0.104*\"interest\" + 0.104*\"vibe\" + 0.104*\"similar\" + 0.104*\"find\" + '\n",
            "  '0.005*\"leave\" + 0.005*\"hang\" + 0.005*\"little\" + 0.005*\"option\" + '\n",
            "  '0.005*\"free\" + 0.005*\"rude\"'),\n",
            " (19,\n",
            "  '0.074*\"converse\" + 0.074*\"multitaske\" + 0.074*\"people\" + 0.074*\"match\" + '\n",
            "  '0.074*\"good\" + 0.074*\"compare\" + 0.074*\"comeback\" + 0.074*\"thing\" + '\n",
            "  '0.004*\"hang\" + 0.004*\"stranger\"')]\n"
          ],
          "name": "stdout"
        }
      ]
    },
    {
      "cell_type": "code",
      "metadata": {
        "colab": {
          "base_uri": "https://localhost:8080/"
        },
        "id": "85NOGCI4rSFs",
        "outputId": "4f942ec5-fda0-4870-b587-4316488270dd"
      },
      "source": [
        "print('Perplexity = ', lda_model.log_perplexity(corpus))\r\n",
        "coherence_model_lda = CoherenceModel(model = lda_model, \r\n",
        "                                     texts = data_lemmatized, \r\n",
        "                                     dictionary=id2word,\r\n",
        "                                     coherence = 'c_v'\r\n",
        "                                     )\r\n",
        "\r\n",
        "coherence_lda = coherence_model_lda.get_coherence()\r\n",
        "print(\"Coherence score = \", coherence_lda)"
      ],
      "execution_count": 65,
      "outputs": [
        {
          "output_type": "stream",
          "text": [
            "Perplexity =  -5.963928300010807\n",
            "Coherence score =  0.6212457037983294\n"
          ],
          "name": "stdout"
        }
      ]
    },
    {
      "cell_type": "code",
      "metadata": {
        "colab": {
          "base_uri": "https://localhost:8080/",
          "height": 881
        },
        "id": "KzzPVsJttKtj",
        "outputId": "d3d31904-d820-4d4b-8590-a362d3890bf8"
      },
      "source": [
        "pyLDAvis.enable_notebook()\r\n",
        "vis = pyLDAvis.gensim.prepare(lda_model,\r\n",
        "                              corpus,\r\n",
        "                              id2word\r\n",
        "                              )\r\n",
        "\r\n",
        "vis"
      ],
      "execution_count": 66,
      "outputs": [
        {
          "output_type": "execute_result",
          "data": {
            "text/html": [
              "\n",
              "<link rel=\"stylesheet\" type=\"text/css\" href=\"https://cdn.jsdelivr.net/gh/bmabey/pyLDAvis@3.2.2/pyLDAvis/js/ldavis.v1.0.0.css\">\n",
              "\n",
              "\n",
              "<div id=\"ldavis_el591403412083394081294065981\"></div>\n",
              "<script type=\"text/javascript\">\n",
              "\n",
              "var ldavis_el591403412083394081294065981_data = {\"mdsDat\": {\"x\": [-0.18462266868695126, 0.2049302722596881, -0.17879388248434389, 0.08564838006976999, -0.05168412343510382, 0.013954907073608983, -0.11721675190511625, 0.025330770977282376, -0.007608285779785323, 0.004620475381443267, 0.0467151877856974, 0.08007569143752867, 0.00852480862572611, -0.05342697989545909, 0.005721729466044066, 0.06520450232688296, 0.009287040892080297, 0.034671003847337074, 0.004333961021835206, 0.0043339610218352115], \"y\": [0.005626467325074427, -0.06470232950194182, -0.14472750756715616, -0.1214412142003755, 0.09210336582616595, -0.100830138391901, -0.008732923336550598, 0.12664975052070498, -0.06896265007028746, 0.035864031031261956, 0.08858268311963644, -0.030132481047879935, 0.07096571018118848, 0.021709808378005242, 0.06149656411087043, -0.03108480342677252, 0.027701558415131736, 0.00470260735977446, 0.017605750637525557, 0.017605750637525532], \"topics\": [1, 2, 3, 4, 5, 6, 7, 8, 9, 10, 11, 12, 13, 14, 15, 16, 17, 18, 19, 20], \"cluster\": [1, 1, 1, 1, 1, 1, 1, 1, 1, 1, 1, 1, 1, 1, 1, 1, 1, 1, 1, 1], \"Freq\": [27.09718325592036, 12.470093299211545, 9.90460975246907, 6.0808969935636, 5.602551420710524, 4.979729201947081, 4.647009435457463, 4.647009174550186, 4.160392022448722, 3.6982132862669035, 3.4388897141901853, 2.7153746034145465, 2.2312670288758953, 2.072332356509314, 1.7593538785881129, 1.6132986099439504, 0.8754144855211197, 0.8754144572162182, 0.5654835115976014, 0.5654835115976014]}, \"tinfo\": {\"Term\": [\"people\", \"conversation\", \"interesting\", \"talk\", \"time\", \"interest\", \"find\", \"many\", \"feel\", \"may\", \"want\", \"keep\", \"app\", \"get\", \"know\", \"good\", \"match\", \"difficult\", \"much\", \"chaotic\", \"thing\", \"converse\", \"able\", \"fun\", \"tedious\", \"common\", \"life\", \"probably\", \"vibe\", \"similar\", \"difficult\", \"app\", \"always\", \"level\", \"low\", \"day\", \"last\", \"none\", \"confusion\", \"develop\", \"extreme\", \"possiblity\", \"say\", \"little\", \"stranger\", \"arrive\", \"conclusion\", \"lot\", \"make\", \"juggle\", \"listing\", \"short\", \"would\", \"else\", \"proceed\", \"quaratine\", \"chill\", \"work\", \"meet\", \"bore\", \"get\", \"talk\", \"many\", \"people\", \"conversation\", \"interest\", \"much\", \"tedious\", \"option\", \"probably\", \"may\", \"seem\", \"form\", \"belief\", \"matching\", \"profile\", \"conflict\", \"mine\", \"expectation\", \"certain\", \"end\", \"connection\", \"chaotic\", \"converse\", \"able\", \"good\", \"match\", \"person\", \"interesting\", \"conversation\", \"fun\", \"life\", \"common\", \"maybe\", \"idea\", \"similar\", \"vibe\", \"come\", \"hold\", \"feel\", \"ghostin\", \"want\", \"back\", \"keep\", \"many\", \"overwhelming\", \"new\", \"depend\", \"answer\", \"give\", \"lifetime\", \"useful\", \"know\", \"hard\", \"time\", \"talk\", \"get\", \"people\", \"many\", \"much\", \"may\", \"fun\", \"life\", \"common\", \"maybe\", \"idea\", \"similar\", \"vibe\", \"come\", \"hold\", \"man\", \"ghostin\", \"really\", \"comeback\", \"compare\", \"multitaske\", \"able\", \"belief\", \"certain\", \"chaotic\", \"conflict\", \"connection\", \"conversation\", \"converse\", \"end\", \"expectation\", \"form\", \"good\", \"interesting\", \"match\", \"matching\", \"free\", \"reply\", \"take\", \"quality\", \"quantity\", \"time\", \"match\", \"person\", \"interesting\", \"much\", \"conversation\", \"fun\", \"life\", \"common\", \"maybe\", \"idea\", \"similar\", \"vibe\", \"come\", \"hold\", \"man\", \"ghostin\", \"really\", \"comeback\", \"compare\", \"multitaske\", \"back\", \"overwhelming\", \"mix\", \"tend\", \"able\", \"belief\", \"certain\", \"chaotic\", \"conflict\", \"connection\", \"converse\", \"end\", \"expectation\", \"form\", \"good\", \"matching\", \"may\", \"mine\", \"probably\", \"profile\", \"seem\", \"feel\", \"hang\", \"leave\", \"sound\", \"rude\", \"attention\", \"divide\", \"option\", \"want\", \"good\", \"much\", \"difficult\", \"people\", \"fun\", \"life\", \"common\", \"maybe\", \"idea\", \"similar\", \"vibe\", \"come\", \"hold\", \"man\", \"ghostin\", \"really\", \"comeback\", \"compare\", \"multitaske\", \"back\", \"overwhelming\", \"mix\", \"able\", \"belief\", \"certain\", \"chaotic\", \"conflict\", \"connection\", \"conversation\", \"converse\", \"end\", \"expectation\", \"form\", \"interesting\", \"match\", \"matching\", \"may\", \"mine\", \"person\", \"probably\", \"back\", \"overwhelming\", \"mix\", \"tend\", \"be\", \"keep\", \"hard\", \"conversation\", \"many\", \"fun\", \"life\", \"common\", \"maybe\", \"idea\", \"similar\", \"vibe\", \"come\", \"hold\", \"man\", \"ghostin\", \"really\", \"comeback\", \"compare\", \"multitaske\", \"wrong\", \"genuinely\", \"invest\", \"basically\", \"cope\", \"bored\", \"instead\", \"pick\", \"agenda\", \"bore\", \"meet\", \"work\", \"chill\", \"quaratine\", \"proceed\", \"app\", \"else\", \"thing\", \"find\", \"get\", \"talk\", \"person\", \"people\", \"able\", \"belief\", \"certain\", \"chaotic\", \"bring\", \"cause\", \"multiple\", \"shortlisting\", \"tedious\", \"keep\", \"people\", \"talk\", \"fun\", \"life\", \"common\", \"maybe\", \"idea\", \"similar\", \"vibe\", \"come\", \"hold\", \"man\", \"ghostin\", \"really\", \"comeback\", \"compare\", \"multitaske\", \"back\", \"overwhelming\", \"mix\", \"tend\", \"be\", \"wrong\", \"genuinely\", \"able\", \"belief\", \"certain\", \"chaotic\", \"conflict\", \"connection\", \"conversation\", \"converse\", \"end\", \"expectation\", \"form\", \"good\", \"interesting\", \"match\", \"matching\", \"may\", \"mine\", \"person\", \"probably\", \"profile\", \"seem\", \"bored\", \"freak\", \"illness\", \"mental\", \"mind\", \"use\", \"basically\", \"cope\", \"app\", \"fun\", \"life\", \"common\", \"maybe\", \"idea\", \"similar\", \"vibe\", \"come\", \"hold\", \"man\", \"ghostin\", \"really\", \"comeback\", \"compare\", \"multitaske\", \"back\", \"overwhelming\", \"mix\", \"tend\", \"be\", \"wrong\", \"able\", \"belief\", \"certain\", \"chaotic\", \"conflict\", \"connection\", \"conversation\", \"converse\", \"end\", \"expectation\", \"form\", \"good\", \"interesting\", \"match\", \"matching\", \"may\", \"mine\", \"person\", \"probably\", \"profile\", \"seem\", \"invest\", \"genuinely\", \"wrong\", \"able\", \"feel\", \"conversation\", \"many\", \"talk\", \"fun\", \"life\", \"common\", \"maybe\", \"idea\", \"similar\", \"vibe\", \"come\", \"hold\", \"man\", \"ghostin\", \"really\", \"comeback\", \"compare\", \"multitaske\", \"back\", \"overwhelming\", \"mix\", \"tend\", \"be\", \"basically\", \"cope\", \"belief\", \"certain\", \"chaotic\", \"conflict\", \"connection\", \"converse\", \"end\", \"expectation\", \"form\", \"good\", \"interesting\", \"match\", \"matching\", \"may\", \"mine\", \"person\", \"probably\", \"profile\", \"seem\", \"want\", \"comeback\", \"compare\", \"multitaske\", \"converse\", \"thing\", \"good\", \"match\", \"people\", \"fun\", \"life\", \"common\", \"maybe\", \"idea\", \"similar\", \"vibe\", \"come\", \"hold\", \"man\", \"ghostin\", \"really\", \"back\", \"overwhelming\", \"mix\", \"tend\", \"be\", \"wrong\", \"genuinely\", \"invest\", \"basically\", \"cope\", \"able\", \"belief\", \"certain\", \"chaotic\", \"conflict\", \"connection\", \"conversation\", \"end\", \"expectation\", \"form\", \"interesting\", \"matching\", \"may\", \"mine\", \"person\", \"probably\", \"profile\", \"seem\", \"feel\", \"want\", \"ghostin\", \"really\", \"feel\", \"want\", \"chaotic\", \"fun\", \"life\", \"common\", \"maybe\", \"idea\", \"similar\", \"vibe\", \"come\", \"hold\", \"man\", \"wrong\", \"comeback\", \"compare\", \"multitaske\", \"genuinely\", \"invest\", \"back\", \"overwhelming\", \"mix\", \"tend\", \"be\", \"basically\", \"cope\", \"bored\", \"freak\", \"able\", \"conversation\", \"many\", \"talk\", \"belief\", \"certain\", \"conflict\", \"connection\", \"converse\", \"end\", \"expectation\", \"form\", \"good\", \"interesting\", \"match\", \"matching\", \"may\", \"mine\", \"person\", \"probably\", \"profile\", \"seem\", \"come\", \"hold\", \"man\", \"interesting\", \"conversation\", \"fun\", \"life\", \"common\", \"maybe\", \"idea\", \"similar\", \"vibe\", \"ghostin\", \"really\", \"comeback\", \"compare\", \"multitaske\", \"back\", \"overwhelming\", \"mix\", \"tend\", \"be\", \"wrong\", \"genuinely\", \"invest\", \"basically\", \"cope\", \"bored\", \"freak\", \"illness\", \"may\", \"probably\", \"connection\", \"chaotic\", \"converse\", \"end\", \"certain\", \"person\", \"expectation\", \"able\", \"conflict\", \"mine\", \"profile\", \"belief\", \"good\", \"matching\", \"match\", \"form\", \"seem\", \"feel\", \"want\", \"keep\", \"similar\", \"vibe\", \"find\", \"interest\", \"fun\", \"life\", \"common\", \"maybe\", \"idea\", \"come\", \"hold\", \"man\", \"ghostin\", \"really\", \"comeback\", \"compare\", \"multitaske\", \"back\", \"overwhelming\", \"mix\", \"tend\", \"be\", \"wrong\", \"genuinely\", \"invest\", \"basically\", \"cope\", \"bored\", \"freak\", \"illness\", \"able\", \"belief\", \"certain\", \"chaotic\", \"conflict\", \"connection\", \"conversation\", \"converse\", \"end\", \"expectation\", \"form\", \"good\", \"interesting\", \"match\", \"matching\", \"may\", \"mine\", \"person\", \"probably\", \"profile\", \"seem\", \"feel\", \"want\", \"maybe\", \"idea\", \"know\", \"people\", \"fun\", \"life\", \"common\", \"similar\", \"vibe\", \"come\", \"hold\", \"man\", \"ghostin\", \"really\", \"comeback\", \"compare\", \"multitaske\", \"back\", \"overwhelming\", \"mix\", \"tend\", \"be\", \"wrong\", \"genuinely\", \"invest\", \"basically\", \"cope\", \"bored\", \"freak\", \"illness\", \"able\", \"belief\", \"certain\", \"chaotic\", \"conflict\", \"connection\", \"conversation\", \"converse\", \"end\", \"expectation\", \"form\", \"good\", \"interesting\", \"match\", \"matching\", \"may\", \"mine\", \"person\", \"probably\", \"profile\", \"seem\", \"feel\", \"want\", \"common\", \"find\", \"interest\", \"fun\", \"life\", \"maybe\", \"idea\", \"similar\", \"vibe\", \"come\", \"hold\", \"man\", \"ghostin\", \"really\", \"comeback\", \"compare\", \"multitaske\", \"back\", \"overwhelming\", \"mix\", \"tend\", \"be\", \"wrong\", \"genuinely\", \"invest\", \"basically\", \"cope\", \"bored\", \"freak\", \"illness\", \"able\", \"belief\", \"certain\", \"chaotic\", \"conflict\", \"connection\", \"conversation\", \"converse\", \"end\", \"expectation\", \"form\", \"good\", \"interesting\", \"match\", \"matching\", \"may\", \"mine\", \"person\", \"probably\", \"profile\", \"seem\", \"feel\", \"want\", \"keep\", \"life\", \"interesting\", \"conversation\", \"fun\", \"common\", \"maybe\", \"idea\", \"similar\", \"vibe\", \"come\", \"hold\", \"man\", \"ghostin\", \"really\", \"comeback\", \"compare\", \"multitaske\", \"back\", \"overwhelming\", \"mix\", \"tend\", \"be\", \"wrong\", \"genuinely\", \"invest\", \"basically\", \"cope\", \"bored\", \"freak\", \"illness\", \"able\", \"belief\", \"certain\", \"chaotic\", \"conflict\", \"connection\", \"converse\", \"end\", \"expectation\", \"form\", \"good\", \"match\", \"matching\", \"may\", \"mine\", \"person\", \"probably\", \"profile\", \"seem\", \"feel\", \"want\", \"keep\", \"many\", \"fun\", \"life\", \"common\", \"maybe\", \"idea\", \"similar\", \"vibe\", \"come\", \"hold\", \"man\", \"ghostin\", \"really\", \"comeback\", \"compare\", \"multitaske\", \"back\", \"overwhelming\", \"mix\", \"tend\", \"be\", \"wrong\", \"genuinely\", \"invest\", \"basically\", \"cope\", \"bored\", \"freak\", \"illness\", \"mental\", \"mind\", \"able\", \"belief\", \"certain\", \"chaotic\", \"conflict\", \"connection\", \"conversation\", \"converse\", \"end\", \"expectation\", \"form\", \"good\", \"interesting\", \"match\", \"matching\", \"may\", \"mine\", \"person\", \"probably\", \"profile\", \"seem\", \"feel\", \"want\", \"keep\", \"many\", \"interesting\", \"fun\", \"life\", \"common\", \"maybe\", \"idea\", \"similar\", \"vibe\", \"come\", \"hold\", \"man\", \"ghostin\", \"really\", \"comeback\", \"compare\", \"multitaske\", \"back\", \"overwhelming\", \"mix\", \"tend\", \"be\", \"wrong\", \"genuinely\", \"invest\", \"basically\", \"cope\", \"bored\", \"freak\", \"illness\", \"mental\", \"able\", \"belief\", \"certain\", \"chaotic\", \"conflict\", \"connection\", \"conversation\", \"converse\", \"end\", \"expectation\", \"form\", \"good\", \"match\", \"matching\", \"may\", \"mine\", \"person\", \"probably\", \"profile\", \"seem\", \"feel\", \"want\", \"keep\", \"many\", \"fun\", \"life\", \"common\", \"maybe\", \"idea\", \"similar\", \"vibe\", \"come\", \"hold\", \"man\", \"ghostin\", \"really\", \"comeback\", \"compare\", \"multitaske\", \"back\", \"overwhelming\", \"mix\", \"tend\", \"be\", \"wrong\", \"genuinely\", \"invest\", \"basically\", \"cope\", \"bored\", \"freak\", \"illness\", \"mental\", \"mind\", \"able\", \"belief\", \"certain\", \"chaotic\", \"conflict\", \"connection\", \"conversation\", \"converse\", \"end\", \"expectation\", \"form\", \"good\", \"interesting\", \"match\", \"matching\", \"may\", \"mine\", \"person\", \"probably\", \"profile\", \"seem\", \"feel\", \"want\", \"keep\", \"many\", \"fun\", \"life\", \"common\", \"maybe\", \"idea\", \"similar\", \"vibe\", \"come\", \"hold\", \"man\", \"ghostin\", \"really\", \"comeback\", \"compare\", \"multitaske\", \"back\", \"overwhelming\", \"mix\", \"tend\", \"be\", \"wrong\", \"genuinely\", \"invest\", \"basically\", \"cope\", \"bored\", \"freak\", \"illness\", \"mental\", \"mind\", \"able\", \"belief\", \"certain\", \"chaotic\", \"conflict\", \"connection\", \"conversation\", \"converse\", \"end\", \"expectation\", \"form\", \"good\", \"interesting\", \"match\", \"matching\", \"may\", \"mine\", \"person\", \"probably\", \"profile\", \"seem\", \"feel\", \"want\", \"keep\", \"many\"], \"Freq\": [8.0, 5.0, 3.0, 7.0, 3.0, 2.0, 2.0, 5.0, 2.0, 4.0, 2.0, 2.0, 3.0, 5.0, 1.0, 2.0, 2.0, 3.0, 3.0, 1.0, 1.0, 1.0, 1.0, 0.0, 1.0, 0.0, 0.0, 2.0, 0.0, 0.0, 2.5912143048440752, 2.586759268335609, 0.892057326245202, 0.892057326245202, 0.892057326245202, 0.892057326245202, 0.892057326245202, 0.892057326245202, 0.892057326245202, 0.892057326245202, 0.892057326245202, 0.892057326245202, 0.892057326245202, 0.892057326245202, 0.892057326245202, 0.892057326245202, 0.892057326245202, 0.892057326245202, 0.892057326245202, 0.892057326245202, 0.892057326245202, 0.892057326245202, 0.892057326245202, 0.8911864586574094, 0.8908871429707562, 0.890720856478171, 0.8906920266218714, 0.8906096556038726, 0.8905091629619141, 0.8904908354104093, 3.438368923975124, 3.438261841651726, 2.5912143048440752, 2.590066052853172, 0.892057326245202, 0.892057326245202, 0.892057326245202, 0.892057326245202, 0.892057326245202, 1.6768465959595729, 3.3127948966412717, 0.8588726351539733, 0.8588726351539733, 0.8588726351539733, 0.8588726351539733, 0.8588726351539733, 0.8588726351539733, 0.8588726351539733, 0.8588726351539733, 0.8588726351539733, 0.8588726351539733, 0.8588726351539733, 0.8588726351539733, 0.8588726351539733, 0.8588726351539733, 0.8588726351539733, 0.8588726351539733, 0.8588726351539733, 0.8588726351539733, 0.8588726351539733, 0.04089870988623309, 0.04089870988623309, 0.04089870988623309, 0.04089870988623309, 0.04089870988623309, 0.04089870988623309, 0.04089870988623309, 0.04089870988623309, 0.04089870988623309, 0.04089870988623309, 0.04089870988623309, 0.04089870988623309, 0.04089870988623309, 0.04089870988623309, 0.04089870988623309, 0.04089870988623309, 0.7550061762681586, 0.7550061762681586, 0.7550061762681586, 0.7550061762681586, 0.7550061762681586, 0.7550061762681586, 0.7550061762681586, 0.7550061762681586, 1.4740597634999242, 2.1931133507316893, 1.4740597634999242, 2.1931133507316893, 1.4740597634999242, 0.7550061762681586, 0.7550061762681586, 0.03595267842070082, 0.03595267842070082, 0.03595267842070082, 0.03595267842070082, 0.03595267842070082, 0.03595267842070082, 0.03595267842070082, 0.03595267842070082, 0.03595267842070082, 0.03595267842070082, 0.03595267842070082, 0.03595267842070082, 0.03595267842070082, 0.03595267842070082, 0.03595267842070082, 0.03595267842070082, 0.03595267842070082, 0.03595267842070082, 0.03595267842070082, 0.03595267842070082, 0.03595267842070082, 0.03595267842070082, 0.03595267842070082, 0.03595267842070082, 0.03595267842070082, 0.03595267842070082, 0.03595267842070082, 0.03595267842070082, 0.03595267842070082, 0.03595267842070082, 0.6819520047392781, 0.6819520047392781, 0.6819520047392781, 0.6819520047392781, 0.6819520047392781, 1.9809083164726284, 0.6819520047392781, 0.6819520047392781, 0.6819520047392781, 0.6819520047392781, 0.6819520047392781, 0.03247390663802531, 0.03247390663802531, 0.03247390663802531, 0.03247390663802531, 0.03247390663802531, 0.03247390663802531, 0.03247390663802531, 0.03247390663802531, 0.03247390663802531, 0.03247390663802531, 0.03247390663802531, 0.03247390663802531, 0.03247390663802531, 0.03247390663802531, 0.03247390663802531, 0.03247390663802531, 0.03247390663802531, 0.03247390663802531, 0.03247390663802531, 0.03247390663802531, 0.03247390663802531, 0.03247390663802531, 0.03247390663802531, 0.03247390663802531, 0.03247390663802531, 0.03247390663802531, 0.03247390663802531, 0.03247390663802531, 0.03247390663802531, 0.03247390663802531, 0.03247390663802531, 0.03247390663802531, 0.03247390663802531, 0.03247390663802531, 0.03247390663802531, 0.03247390663802531, 0.03247390663802531, 0.6630203262516623, 0.6630203262516623, 0.6630203262516623, 0.6630203262516623, 0.6630203262516623, 0.6630203262516623, 0.6630203262516623, 0.6630203262516623, 0.6630203262516623, 0.6630203262516623, 0.6630203262516623, 0.6630203262516623, 0.03157239876909082, 0.03157239876909082, 0.03157239876909082, 0.03157239876909082, 0.03157239876909082, 0.03157239876909082, 0.03157239876909082, 0.03157239876909082, 0.03157239876909082, 0.03157239876909082, 0.03157239876909082, 0.03157239876909082, 0.03157239876909082, 0.03157239876909082, 0.03157239876909082, 0.03157239876909082, 0.03157239876909082, 0.03157239876909082, 0.03157239876909082, 0.03157239876909082, 0.03157239876909082, 0.03157239876909082, 0.03157239876909082, 0.03157239876909082, 0.03157239876909082, 0.03157239876909082, 0.03157239876909082, 0.03157239876909082, 0.03157239876909082, 0.03157239876909082, 0.03157239876909082, 0.03157239876909082, 0.03157239876909082, 0.03157239876909082, 0.03157239876909082, 0.03157239876909082, 0.6225207286868011, 0.6225207286868011, 0.6225207286868011, 0.6225207286868011, 0.6225207286868011, 1.2153976401817865, 0.6225207286868011, 1.2153976401817865, 0.6225207286868011, 0.029643845574749278, 0.029643845574749278, 0.029643845574749278, 0.029643845574749278, 0.029643845574749278, 0.029643845574749278, 0.029643845574749278, 0.029643845574749278, 0.029643845574749278, 0.029643845574749278, 0.029643845574749278, 0.029643845574749278, 0.029643845574749278, 0.029643845574749278, 0.029643845574749278, 0.029643845574749278, 0.029643845574749278, 0.029643845574749278, 0.029643845574749278, 0.029643845574749278, 0.029643845574749278, 0.03096252850268108, 0.030841085024927332, 0.030833151994946108, 0.030737080494714308, 0.030724303444040906, 0.030654190501961748, 0.030596610990374695, 0.030576570273907512, 0.03046052664929841, 0.03275276076133357, 0.030251576221569876, 0.030583599780497912, 0.030648230085875677, 0.03133553465268983, 0.031410146289767286, 0.03058725171797287, 0.030445086333342104, 0.029643845574749278, 0.029643845574749278, 0.029643845574749278, 0.029643845574749278, 0.6591983119128874, 0.6591983119128874, 0.6591983119128874, 0.6591983119128874, 0.6591983119128874, 0.6591983119128874, 1.2870063390115842, 0.6591983119128874, 0.03139039958916599, 0.03139039958916599, 0.03139039958916599, 0.03139039958916599, 0.03139039958916599, 0.03139039958916599, 0.03139039958916599, 0.03139039958916599, 0.03139039958916599, 0.03139039958916599, 0.03139039958916599, 0.03139039958916599, 0.03139039958916599, 0.03139039958916599, 0.03139039958916599, 0.03139039958916599, 0.03139039958916599, 0.03139039958916599, 0.03139039958916599, 0.03139039958916599, 0.03139039958916599, 0.03139039958916599, 0.03139039958916599, 0.03139039958916599, 0.03139039958916599, 0.03139039958916599, 0.03139039958916599, 0.03139039958916599, 0.03139039958916599, 0.03139039958916599, 0.03139039958916599, 0.03139039958916599, 0.03139039958916599, 0.03139039958916599, 0.03139039958916599, 0.03139039958916599, 0.03139039958916599, 0.03139039958916599, 0.03139039958916599, 0.03139039958916599, 0.03139039958916599, 0.03139039958916599, 0.03139039958916599, 0.6591982042713157, 0.6591982042713157, 0.6591982042713157, 0.6591982042713157, 0.6591982042713157, 0.6591982042713157, 0.6591981336405655, 0.6591981336405655, 0.6591982042713157, 0.03139039341232382, 0.03139039341232382, 0.03139039341232382, 0.03139039341232382, 0.03139039341232382, 0.03139039341232382, 0.03139039341232382, 0.03139039341232382, 0.03139039341232382, 0.03139039341232382, 0.03139039341232382, 0.03139039341232382, 0.03139039341232382, 0.03139039341232382, 0.03139039341232382, 0.03139039341232382, 0.03139039341232382, 0.03139039341232382, 0.03139039341232382, 0.03139039341232382, 0.03139039341232382, 0.03139039341232382, 0.03139039341232382, 0.03139039341232382, 0.03139039341232382, 0.03139039341232382, 0.03139039341232382, 0.03139039341232382, 0.03139039341232382, 0.03139039341232382, 0.03139039341232382, 0.03139039341232382, 0.03139039341232382, 0.03139039341232382, 0.03139039341232382, 0.03139039341232382, 0.03139039341232382, 0.03139039341232382, 0.03139039341232382, 0.03139039341232382, 0.03139039341232382, 0.03139039341232382, 0.631587606900012, 0.6313770990288391, 0.6311447752322967, 0.6312114876997306, 0.6308561094371917, 0.6311911261693859, 0.6312950837963635, 0.6312697899698482, 0.030151470328032733, 0.030151470328032733, 0.030151470328032733, 0.030151470328032733, 0.030151470328032733, 0.030151470328032733, 0.030151470328032733, 0.030151470328032733, 0.030151470328032733, 0.030151470328032733, 0.030151470328032733, 0.030151470328032733, 0.030151470328032733, 0.030151470328032733, 0.030151470328032733, 0.030151470328032733, 0.030151470328032733, 0.030151470328032733, 0.030151470328032733, 0.030151470328032733, 0.030151470328032733, 0.030151470328032733, 0.030151470328032733, 0.030151470328032733, 0.030151470328032733, 0.030151470328032733, 0.030151470328032733, 0.030151470328032733, 0.030151470328032733, 0.030151470328032733, 0.030151470328032733, 0.030151470328032733, 0.030151470328032733, 0.030151470328032733, 0.030151470328032733, 0.030151470328032733, 0.030151470328032733, 0.030151470328032733, 0.030151470328032733, 0.030151470328032733, 0.030151470328032733, 0.030151470328032733, 0.5618137295225908, 0.5618137295225908, 0.5618137295225908, 0.5618137295225908, 0.5618137295225908, 0.5618137295225908, 0.5618137295225908, 0.5618137295225908, 0.02675303524104444, 0.02675303524104444, 0.02675303524104444, 0.02675303524104444, 0.02675303524104444, 0.02675303524104444, 0.02675303524104444, 0.02675303524104444, 0.02675303524104444, 0.02675303524104444, 0.02675303524104444, 0.02675303524104444, 0.02675303524104444, 0.02675303524104444, 0.02675303524104444, 0.02675303524104444, 0.02675303524104444, 0.02675303524104444, 0.02675303524104444, 0.02675303524104444, 0.02675303524104444, 0.02675303524104444, 0.02675303524104444, 0.02675303524104444, 0.02675303524104444, 0.02675303524104444, 0.02675303524104444, 0.02675303524104444, 0.02675303524104444, 0.02675303524104444, 0.02675303524104444, 0.02675303524104444, 0.02675303524104444, 0.02675303524104444, 0.02675303524104444, 0.02675303524104444, 0.02675303524104444, 0.02675303524104444, 0.02675303524104444, 0.02675303524104444, 0.02675303524104444, 0.02675303524104444, 0.561195852079945, 0.561195852079945, 1.0977283749076099, 1.0956681668251111, 0.561195852079945, 0.02672361410387332, 0.02672361410387332, 0.02672361410387332, 0.02672361410387332, 0.02672361410387332, 0.02672361410387332, 0.02672361410387332, 0.02672361410387332, 0.02672361410387332, 0.02672361410387332, 0.0285282056031075, 0.02672361410387332, 0.02672361410387332, 0.02672361410387332, 0.028322258623858954, 0.028135778326864456, 0.02672361410387332, 0.02672361410387332, 0.02672361410387332, 0.02672361410387332, 0.02672361410387332, 0.02672361410387332, 0.02672361410387332, 0.02672361410387332, 0.02672361410387332, 0.02846900846447255, 0.028487122703958825, 0.028394967123091776, 0.028417406566018957, 0.02672361410387332, 0.02672361410387332, 0.02672361410387332, 0.02672361410387332, 0.02672361410387332, 0.02672361410387332, 0.02672361410387332, 0.02672361410387332, 0.02672361410387332, 0.02672361410387332, 0.02672361410387332, 0.02672361410387332, 0.02672361410387332, 0.02672361410387332, 0.02672361410387332, 0.02672361410387332, 0.02672361410387332, 0.02672361410387332, 0.523993768425491, 0.523993768425491, 0.523993768425491, 0.5239938509684506, 0.5239938509684506, 0.02495208666737337, 0.02495208666737337, 0.02495208666737337, 0.02495208666737337, 0.02495208666737337, 0.02495208666737337, 0.02495208666737337, 0.02495208666737337, 0.02495208666737337, 0.02495208666737337, 0.02495208666737337, 0.02495208666737337, 0.02495208666737337, 0.02495208666737337, 0.02495208666737337, 0.02495208666737337, 0.02495208666737337, 0.02495208666737337, 0.02495208666737337, 0.02495208666737337, 0.02495208666737337, 0.02495208666737337, 0.02495208666737337, 0.02495208666737337, 0.02495208666737337, 0.02495237556773204, 0.02495224917382512, 0.024952215640747774, 0.024952202743410333, 0.024952202743410333, 0.024952189846072892, 0.024952182107670428, 0.024952182107670428, 0.02495217952820294, 0.024952176948735454, 0.024952161471930523, 0.024952161471930523, 0.024952158892463036, 0.02495215631299555, 0.02495215631299555, 0.02495215631299555, 0.024952148574593082, 0.024952143415658108, 0.024952140836190618, 0.02495208666737337, 0.02495208666737337, 0.02495208666737337, 0.47320541175304337, 0.47320541175304337, 0.47320541175304337, 0.47320541175304337, 0.022533591944254906, 0.022533591944254906, 0.022533591944254906, 0.022533591944254906, 0.022533591944254906, 0.022533591944254906, 0.022533591944254906, 0.022533591944254906, 0.022533591944254906, 0.022533591944254906, 0.022533591944254906, 0.022533591944254906, 0.022533591944254906, 0.022533591944254906, 0.022533591944254906, 0.022533591944254906, 0.022533591944254906, 0.022533591944254906, 0.022533591944254906, 0.022533591944254906, 0.022533591944254906, 0.022533591944254906, 0.022533591944254906, 0.022533591944254906, 0.022533591944254906, 0.022533591944254906, 0.022533591944254906, 0.022533591944254906, 0.022533591944254906, 0.022533591944254906, 0.022533591944254906, 0.022533591944254906, 0.022533591944254906, 0.022533591944254906, 0.022533591944254906, 0.022533591944254906, 0.022533591944254906, 0.022533591944254906, 0.022533591944254906, 0.022533591944254906, 0.022533591944254906, 0.022533591944254906, 0.022533591944254906, 0.022533591944254906, 0.022533591944254906, 0.022533591944254906, 0.022533591944254906, 0.022533591944254906, 0.022533591944254906, 0.4394986045150102, 0.4394986045150102, 0.4394986045150102, 0.4394986045150102, 0.020928506851772034, 0.020928506851772034, 0.020928506851772034, 0.020928506851772034, 0.020928506851772034, 0.020928506851772034, 0.020928506851772034, 0.020928506851772034, 0.020928506851772034, 0.020928506851772034, 0.020928506851772034, 0.020928506851772034, 0.020928506851772034, 0.020928506851772034, 0.020928506851772034, 0.020928506851772034, 0.020928506851772034, 0.020928506851772034, 0.020928506851772034, 0.020928506851772034, 0.020928506851772034, 0.020928506851772034, 0.020928506851772034, 0.020928506851772034, 0.020928506851772034, 0.020928506851772034, 0.020928506851772034, 0.020928506851772034, 0.020928506851772034, 0.020928506851772034, 0.020928506851772034, 0.020928506851772034, 0.020928506851772034, 0.020928506851772034, 0.020928506851772034, 0.020928506851772034, 0.020928506851772034, 0.020928506851772034, 0.020928506851772034, 0.020928506851772034, 0.020928506851772034, 0.020928506851772034, 0.020928506851772034, 0.020928506851772034, 0.020928506851772034, 0.020928506851772034, 0.020928506851772034, 0.020928506851772034, 0.020928506851772034, 0.4141248426050991, 0.4141248426050991, 0.4141248426050991, 0.019720232669467076, 0.019720232669467076, 0.019720232669467076, 0.019720232669467076, 0.019720232669467076, 0.019720232669467076, 0.019720232669467076, 0.019720232669467076, 0.019720232669467076, 0.019720232669467076, 0.019720232669467076, 0.019720232669467076, 0.019720232669467076, 0.019720232669467076, 0.019720232669467076, 0.019720232669467076, 0.019720232669467076, 0.019720232669467076, 0.019720232669467076, 0.019720232669467076, 0.019720232669467076, 0.019720232669467076, 0.019720232669467076, 0.019720232669467076, 0.019720232669467076, 0.019720232669467076, 0.019720232669467076, 0.019720232669467076, 0.019720232669467076, 0.019720232669467076, 0.019720232669467076, 0.019720232669467076, 0.019720232669467076, 0.019720232669467076, 0.019720232669467076, 0.019720232669467076, 0.019720232669467076, 0.019720232669467076, 0.019720232669467076, 0.019720232669467076, 0.019720232669467076, 0.019720232669467076, 0.019720232669467076, 0.019720232669467076, 0.019720232669467076, 0.019720232669467076, 0.019720232669467076, 0.019720232669467076, 0.019720232669467076, 0.019720232669467076, 0.019720232669467076, 0.3797456788251272, 0.37974572786677396, 0.37974572786677396, 0.01808313099309742, 0.01808313099309742, 0.01808313099309742, 0.01808313099309742, 0.01808313099309742, 0.01808313099309742, 0.01808313099309742, 0.01808313099309742, 0.01808313099309742, 0.01808313099309742, 0.01808313099309742, 0.01808313099309742, 0.01808313099309742, 0.01808313099309742, 0.01808313099309742, 0.01808313099309742, 0.01808313099309742, 0.01808313099309742, 0.01808313099309742, 0.01808313099309742, 0.01808313099309742, 0.01808313099309742, 0.01808313099309742, 0.01808313099309742, 0.01808313099309742, 0.01808313099309742, 0.01808313099309742, 0.01808313099309742, 0.01808313099309742, 0.01808313099309742, 0.01808313099309742, 0.01808313099309742, 0.01808313099309742, 0.01808313099309742, 0.01808313099309742, 0.01808313099309742, 0.01808313099309742, 0.01808313099309742, 0.01808313099309742, 0.01808313099309742, 0.01808313099309742, 0.01808313099309742, 0.01808313099309742, 0.01808313099309742, 0.01808313099309742, 0.01808313099309742, 0.01808313099309742, 0.01808313099309742, 0.01808313099309742, 0.01808313099309742, 0.264103887454781, 0.012576377018683344, 0.012576377018683344, 0.012576377018683344, 0.012576377018683344, 0.012576377018683344, 0.012576377018683344, 0.012576377018683344, 0.012576377018683344, 0.012576377018683344, 0.012576377018683344, 0.012576377018683344, 0.012576377018683344, 0.012576377018683344, 0.012576377018683344, 0.012576377018683344, 0.012576377018683344, 0.012576377018683344, 0.012576377018683344, 0.012576377018683344, 0.012576377018683344, 0.012576377018683344, 0.012576377018683344, 0.012576377018683344, 0.012576377018683344, 0.012576377018683344, 0.012576377018683344, 0.012576377018683344, 0.012576377018683344, 0.012576377018683344, 0.012576377018683344, 0.012576377018683344, 0.012576377018683344, 0.012576377018683344, 0.012576377018683344, 0.012576377018683344, 0.012576377018683344, 0.012576377018683344, 0.012576377018683344, 0.012576377018683344, 0.012576377018683344, 0.012576377018683344, 0.012576377018683344, 0.012576377018683344, 0.012576377018683344, 0.012576377018683344, 0.012576377018683344, 0.012576377018683344, 0.012576377018683344, 0.012576377018683344, 0.012576377018683344, 0.012576377018683344, 0.012576377018683344, 0.012576377018683344, 0.012576377018683344, 0.26410387891547227, 0.012576376612049552, 0.012576376612049552, 0.012576376612049552, 0.012576376612049552, 0.012576376612049552, 0.012576376612049552, 0.012576376612049552, 0.012576376612049552, 0.012576376612049552, 0.012576376612049552, 0.012576376612049552, 0.012576376612049552, 0.012576376612049552, 0.012576376612049552, 0.012576376612049552, 0.012576376612049552, 0.012576376612049552, 0.012576376612049552, 0.012576376612049552, 0.012576376612049552, 0.012576376612049552, 0.012576376612049552, 0.012576376612049552, 0.012576376612049552, 0.012576376612049552, 0.012576376612049552, 0.012576376612049552, 0.012576376612049552, 0.012576376612049552, 0.012576376612049552, 0.012576376612049552, 0.012576376612049552, 0.012576376612049552, 0.012576376612049552, 0.012576376612049552, 0.012576376612049552, 0.012576376612049552, 0.012576376612049552, 0.012576376612049552, 0.012576376612049552, 0.012576376612049552, 0.012576376612049552, 0.012576376612049552, 0.012576376612049552, 0.012576376612049552, 0.012576376612049552, 0.012576376612049552, 0.012576376612049552, 0.012576376612049552, 0.012576376612049552, 0.012576376612049552, 0.012576376612049552, 0.012576376612049552, 0.009455624431900555, 0.009455624431900555, 0.009455624431900555, 0.009455624431900555, 0.009455624431900555, 0.009455624431900555, 0.009455624431900555, 0.009455624431900555, 0.009455624431900555, 0.009455624431900555, 0.009455624431900555, 0.009455624431900555, 0.009455624431900555, 0.009455624431900555, 0.009455624431900555, 0.009455624431900555, 0.009455624431900555, 0.009455624431900555, 0.009455624431900555, 0.009455624431900555, 0.009455624431900555, 0.009455624431900555, 0.009455624431900555, 0.009455624431900555, 0.009455624431900555, 0.009455624431900555, 0.009455624431900555, 0.009455624431900555, 0.009455624431900555, 0.009455624431900555, 0.009455624431900555, 0.009455624431900555, 0.009455624431900555, 0.009455624431900555, 0.009455624431900555, 0.009455624431900555, 0.009455624431900555, 0.009455624431900555, 0.009455624431900555, 0.009455624431900555, 0.009455624431900555, 0.009455624431900555, 0.009455624431900555, 0.009455624431900555, 0.009455624431900555, 0.009455624431900555, 0.009455624431900555, 0.009455624431900555, 0.009455624431900555, 0.009455624431900555, 0.009455624431900555, 0.009455624431900555, 0.009455624431900555, 0.009455624431900555, 0.009455624431900555, 0.009455624431900555, 0.009455624431900555, 0.009455624431900555, 0.009455624431900555, 0.009455624431900555, 0.009455624431900555, 0.009455624431900555, 0.009455624431900555, 0.009455624431900555, 0.009455624431900555, 0.009455624431900555, 0.009455624431900555, 0.009455624431900555, 0.009455624431900555, 0.009455624431900555, 0.009455624431900555, 0.009455624431900555, 0.009455624431900555, 0.009455624431900555, 0.009455624431900555, 0.009455624431900555, 0.009455624431900555, 0.009455624431900555, 0.009455624431900555, 0.009455624431900555, 0.009455624431900555, 0.009455624431900555, 0.009455624431900555, 0.009455624431900555, 0.009455624431900555, 0.009455624431900555, 0.009455624431900555, 0.009455624431900555, 0.009455624431900555, 0.009455624431900555, 0.009455624431900555, 0.009455624431900555, 0.009455624431900555, 0.009455624431900555, 0.009455624431900555, 0.009455624431900555, 0.009455624431900555, 0.009455624431900555, 0.009455624431900555, 0.009455624431900555, 0.009455624431900555, 0.009455624431900555, 0.009455624431900555, 0.009455624431900555, 0.009455624431900555, 0.009455624431900555, 0.009455624431900555, 0.009455624431900555, 0.009455624431900555, 0.009455624431900555], \"Total\": [8.0, 5.0, 3.0, 7.0, 3.0, 2.0, 2.0, 5.0, 2.0, 4.0, 2.0, 2.0, 3.0, 5.0, 1.0, 2.0, 2.0, 3.0, 3.0, 1.0, 1.0, 1.0, 1.0, 0.0, 1.0, 0.0, 0.0, 2.0, 0.0, 0.0, 3.6898942359103857, 3.6849079979649244, 1.3592893298289401, 1.3592893298289401, 1.3592893298289401, 1.3592893298289401, 1.3592893298289401, 1.3592893298289401, 1.3592893298289401, 1.3592893298289401, 1.3592893298289401, 1.3592893298289401, 1.3592893298289401, 1.3592893298289401, 1.3592893298289401, 1.3592893298289401, 1.3592893298289401, 1.3592893298289401, 1.3592893298289401, 1.3592893298289401, 1.3592893298289401, 1.3592893298289401, 1.3592893298289401, 1.359026192887968, 1.3589358276290435, 1.3588855847610675, 1.358876795621235, 1.3588520041148233, 1.358821624414944, 1.3588160739141124, 5.345399701716026, 7.295040842689153, 5.692245243106639, 8.055954628356266, 5.476002673421162, 2.204365759573361, 3.359268853260223, 1.9870972421526616, 1.9907372573115116, 2.1456589759849787, 4.500660900908041, 1.3276849068417438, 1.3276849094212113, 1.3276849223185487, 1.3276849223185487, 1.3276849248980163, 1.3276849274774838, 1.3276849274774838, 1.327684945533756, 1.3276849481132236, 1.3276849558516262, 1.327684981646301, 1.8621572067250352, 1.8627456630305101, 1.9304903546865857, 2.4941935440826675, 2.512223706962946, 2.826333043412321, 3.089394814252356, 5.476002673421162, 0.7612384378412843, 0.8713734752372164, 0.9041155373408186, 0.9282810250684248, 0.9282810250684248, 0.9603827472139751, 0.9603827472139751, 1.0087526091633041, 1.0087526091633041, 2.181420327318083, 1.0441831653812583, 2.210103407608997, 1.1025878105172384, 2.3232726343359458, 5.692245243106639, 1.1025878105172384, 1.2287644252526442, 1.2287644252526442, 1.2287644252526442, 1.2287644252526442, 1.2287644252526442, 1.2287644252526442, 1.6473345229158824, 1.821641308364696, 3.896252422319013, 7.295040842689153, 5.345399701716026, 8.055954628356266, 5.692245243106639, 3.359268853260223, 4.500660900908041, 0.7612384378412843, 0.8713734752372164, 0.9041155373408186, 0.9282810250684248, 0.9282810250684248, 0.9603827472139751, 0.9603827472139751, 1.0087526091633041, 1.0087526091633041, 1.0087526091633041, 1.0441831653812583, 1.0441831653812583, 1.044771621686733, 1.044771621686733, 1.044771621686733, 1.9304903546865857, 1.3276849223185487, 1.3276849481132236, 1.8621572067250352, 1.3276849274774838, 1.327684981646301, 5.476002673421162, 1.8627456630305101, 1.3276849558516262, 1.327684945533756, 1.3276849094212113, 2.4941935440826675, 3.089394814252356, 2.512223706962946, 1.3276849223185487, 1.1591890255064392, 1.1591890255064392, 1.1591890255064392, 1.1591890255064392, 1.1591890255064392, 3.896252422319013, 2.512223706962946, 2.826333043412321, 3.089394814252356, 3.359268853260223, 5.476002673421162, 0.7612384378412843, 0.8713734752372164, 0.9041155373408186, 0.9282810250684248, 0.9282810250684248, 0.9603827472139751, 0.9603827472139751, 1.0087526091633041, 1.0087526091633041, 1.0087526091633041, 1.0441831653812583, 1.0441831653812583, 1.044771621686733, 1.044771621686733, 1.044771621686733, 1.1025878105172384, 1.1025878105172384, 1.1025878105172384, 1.1025878105172384, 1.9304903546865857, 1.3276849223185487, 1.3276849481132236, 1.8621572067250352, 1.3276849274774838, 1.327684981646301, 1.8627456630305101, 1.3276849558516262, 1.327684945533756, 1.3276849094212113, 2.4941935440826675, 1.3276849223185487, 4.500660900908041, 1.3276849274774838, 2.1456589759849787, 1.3276849248980163, 1.3276849068417438, 2.181420327318083, 1.141158854887758, 1.141158854887758, 1.141158854887758, 1.141158854887758, 1.141158854887758, 1.141158854887758, 1.9907372573115116, 2.210103407608997, 2.4941935440826675, 3.359268853260223, 3.6898942359103857, 8.055954628356266, 0.7612384378412843, 0.8713734752372164, 0.9041155373408186, 0.9282810250684248, 0.9282810250684248, 0.9603827472139751, 0.9603827472139751, 1.0087526091633041, 1.0087526091633041, 1.0087526091633041, 1.0441831653812583, 1.0441831653812583, 1.044771621686733, 1.044771621686733, 1.044771621686733, 1.1025878105172384, 1.1025878105172384, 1.1025878105172384, 1.9304903546865857, 1.3276849223185487, 1.3276849481132236, 1.8621572067250352, 1.3276849274774838, 1.327684981646301, 5.476002673421162, 1.8627456630305101, 1.3276849558516262, 1.327684945533756, 1.3276849094212113, 3.089394814252356, 2.512223706962946, 1.3276849223185487, 4.500660900908041, 1.3276849274774838, 2.826333043412321, 2.1456589759849787, 1.1025878105172384, 1.1025878105172384, 1.1025878105172384, 1.1025878105172384, 1.1025878105172384, 2.3232726343359458, 1.821641308364696, 5.476002673421162, 5.692245243106639, 0.7612384378412843, 0.8713734752372164, 0.9041155373408186, 0.9282810250684248, 0.9282810250684248, 0.9603827472139751, 0.9603827472139751, 1.0087526091633041, 1.0087526091633041, 1.0087526091633041, 1.0441831653812583, 1.0441831653812583, 1.044771621686733, 1.044771621686733, 1.044771621686733, 1.1125088238086847, 1.1125352006259785, 1.1125592282001568, 1.1375186676334281, 1.1375186676334281, 1.1375187382641785, 1.358718421603979, 1.3587710898655203, 1.3587744828505137, 1.3588160739141124, 1.358821624414944, 1.3588520041148233, 1.358876795621235, 1.3588855847610675, 1.3589358276290435, 3.6849079979649244, 1.359026192887968, 1.8939431151357269, 2.203930916472503, 5.345399701716026, 7.295040842689153, 2.826333043412321, 8.055954628356266, 1.9304903546865857, 1.3276849223185487, 1.3276849481132236, 1.8621572067250352, 1.137518839728908, 1.137518839728908, 1.137518839728908, 1.137518839728908, 1.9870972421526616, 2.3232726343359458, 8.055954628356266, 7.295040842689153, 0.7612384378412843, 0.8713734752372164, 0.9041155373408186, 0.9282810250684248, 0.9282810250684248, 0.9603827472139751, 0.9603827472139751, 1.0087526091633041, 1.0087526091633041, 1.0087526091633041, 1.0441831653812583, 1.0441831653812583, 1.044771621686733, 1.044771621686733, 1.044771621686733, 1.1025878105172384, 1.1025878105172384, 1.1025878105172384, 1.1025878105172384, 1.1025878105172384, 1.1125088238086847, 1.1125352006259785, 1.9304903546865857, 1.3276849223185487, 1.3276849481132236, 1.8621572067250352, 1.3276849274774838, 1.327684981646301, 5.476002673421162, 1.8627456630305101, 1.3276849558516262, 1.327684945533756, 1.3276849094212113, 2.4941935440826675, 3.089394814252356, 2.512223706962946, 1.3276849223185487, 4.500660900908041, 1.3276849274774838, 2.826333043412321, 2.1456589759849787, 1.3276849248980163, 1.3276849068417438, 1.1375187382641785, 1.1375187382641785, 1.1375187382641785, 1.1375187382641785, 1.1375187382641785, 1.1375187382641785, 1.1375186676334281, 1.1375186676334281, 3.6849079979649244, 0.7612384378412843, 0.8713734752372164, 0.9041155373408186, 0.9282810250684248, 0.9282810250684248, 0.9603827472139751, 0.9603827472139751, 1.0087526091633041, 1.0087526091633041, 1.0087526091633041, 1.0441831653812583, 1.0441831653812583, 1.044771621686733, 1.044771621686733, 1.044771621686733, 1.1025878105172384, 1.1025878105172384, 1.1025878105172384, 1.1025878105172384, 1.1025878105172384, 1.1125088238086847, 1.9304903546865857, 1.3276849223185487, 1.3276849481132236, 1.8621572067250352, 1.3276849274774838, 1.327684981646301, 5.476002673421162, 1.8627456630305101, 1.3276849558516262, 1.327684945533756, 1.3276849094212113, 2.4941935440826675, 3.089394814252356, 2.512223706962946, 1.3276849223185487, 4.500660900908041, 1.3276849274774838, 2.826333043412321, 2.1456589759849787, 1.3276849248980163, 1.3276849068417438, 1.1125592282001568, 1.1125352006259785, 1.1125088238086847, 1.9304903546865857, 2.181420327318083, 5.476002673421162, 5.692245243106639, 7.295040842689153, 0.7612384378412843, 0.8713734752372164, 0.9041155373408186, 0.9282810250684248, 0.9282810250684248, 0.9603827472139751, 0.9603827472139751, 1.0087526091633041, 1.0087526091633041, 1.0087526091633041, 1.0441831653812583, 1.0441831653812583, 1.044771621686733, 1.044771621686733, 1.044771621686733, 1.1025878105172384, 1.1025878105172384, 1.1025878105172384, 1.1025878105172384, 1.1025878105172384, 1.1375186676334281, 1.1375186676334281, 1.3276849223185487, 1.3276849481132236, 1.8621572067250352, 1.3276849274774838, 1.327684981646301, 1.8627456630305101, 1.3276849558516262, 1.327684945533756, 1.3276849094212113, 2.4941935440826675, 3.089394814252356, 2.512223706962946, 1.3276849223185487, 4.500660900908041, 1.3276849274774838, 2.826333043412321, 2.1456589759849787, 1.3276849248980163, 1.3276849068417438, 2.210103407608997, 1.044771621686733, 1.044771621686733, 1.044771621686733, 1.8627456630305101, 1.8939431151357269, 2.4941935440826675, 2.512223706962946, 8.055954628356266, 0.7612384378412843, 0.8713734752372164, 0.9041155373408186, 0.9282810250684248, 0.9282810250684248, 0.9603827472139751, 0.9603827472139751, 1.0087526091633041, 1.0087526091633041, 1.0087526091633041, 1.0441831653812583, 1.0441831653812583, 1.1025878105172384, 1.1025878105172384, 1.1025878105172384, 1.1025878105172384, 1.1025878105172384, 1.1125088238086847, 1.1125352006259785, 1.1125592282001568, 1.1375186676334281, 1.1375186676334281, 1.9304903546865857, 1.3276849223185487, 1.3276849481132236, 1.8621572067250352, 1.3276849274774838, 1.327684981646301, 5.476002673421162, 1.3276849558516262, 1.327684945533756, 1.3276849094212113, 3.089394814252356, 1.3276849223185487, 4.500660900908041, 1.3276849274774838, 2.826333043412321, 2.1456589759849787, 1.3276849248980163, 1.3276849068417438, 2.181420327318083, 2.210103407608997, 1.0441831653812583, 1.0441831653812583, 2.181420327318083, 2.210103407608997, 1.8621572067250352, 0.7612384378412843, 0.8713734752372164, 0.9041155373408186, 0.9282810250684248, 0.9282810250684248, 0.9603827472139751, 0.9603827472139751, 1.0087526091633041, 1.0087526091633041, 1.0087526091633041, 1.1125088238086847, 1.044771621686733, 1.044771621686733, 1.044771621686733, 1.1125352006259785, 1.1125592282001568, 1.1025878105172384, 1.1025878105172384, 1.1025878105172384, 1.1025878105172384, 1.1025878105172384, 1.1375186676334281, 1.1375186676334281, 1.1375187382641785, 1.1375187382641785, 1.9304903546865857, 5.476002673421162, 5.692245243106639, 7.295040842689153, 1.3276849223185487, 1.3276849481132236, 1.3276849274774838, 1.327684981646301, 1.8627456630305101, 1.3276849558516262, 1.327684945533756, 1.3276849094212113, 2.4941935440826675, 3.089394814252356, 2.512223706962946, 1.3276849223185487, 4.500660900908041, 1.3276849274774838, 2.826333043412321, 2.1456589759849787, 1.3276849248980163, 1.3276849068417438, 1.0087526091633041, 1.0087526091633041, 1.0087526091633041, 3.089394814252356, 5.476002673421162, 0.7612384378412843, 0.8713734752372164, 0.9041155373408186, 0.9282810250684248, 0.9282810250684248, 0.9603827472139751, 0.9603827472139751, 1.0441831653812583, 1.0441831653812583, 1.044771621686733, 1.044771621686733, 1.044771621686733, 1.1025878105172384, 1.1025878105172384, 1.1025878105172384, 1.1025878105172384, 1.1025878105172384, 1.1125088238086847, 1.1125352006259785, 1.1125592282001568, 1.1375186676334281, 1.1375186676334281, 1.1375187382641785, 1.1375187382641785, 1.1375187382641785, 4.500660900908041, 2.1456589759849787, 1.327684981646301, 1.8621572067250352, 1.8627456630305101, 1.3276849558516262, 1.3276849481132236, 2.826333043412321, 1.327684945533756, 1.9304903546865857, 1.3276849274774838, 1.3276849274774838, 1.3276849248980163, 1.3276849223185487, 2.4941935440826675, 1.3276849223185487, 2.512223706962946, 1.3276849094212113, 1.3276849068417438, 2.181420327318083, 2.210103407608997, 2.3232726343359458, 0.9603827472139751, 0.9603827472139751, 2.203930916472503, 2.204365759573361, 0.7612384378412843, 0.8713734752372164, 0.9041155373408186, 0.9282810250684248, 0.9282810250684248, 1.0087526091633041, 1.0087526091633041, 1.0087526091633041, 1.0441831653812583, 1.0441831653812583, 1.044771621686733, 1.044771621686733, 1.044771621686733, 1.1025878105172384, 1.1025878105172384, 1.1025878105172384, 1.1025878105172384, 1.1025878105172384, 1.1125088238086847, 1.1125352006259785, 1.1125592282001568, 1.1375186676334281, 1.1375186676334281, 1.1375187382641785, 1.1375187382641785, 1.1375187382641785, 1.9304903546865857, 1.3276849223185487, 1.3276849481132236, 1.8621572067250352, 1.3276849274774838, 1.327684981646301, 5.476002673421162, 1.8627456630305101, 1.3276849558516262, 1.327684945533756, 1.3276849094212113, 2.4941935440826675, 3.089394814252356, 2.512223706962946, 1.3276849223185487, 4.500660900908041, 1.3276849274774838, 2.826333043412321, 2.1456589759849787, 1.3276849248980163, 1.3276849068417438, 2.181420327318083, 2.210103407608997, 0.9282810250684248, 0.9282810250684248, 1.6473345229158824, 8.055954628356266, 0.7612384378412843, 0.8713734752372164, 0.9041155373408186, 0.9603827472139751, 0.9603827472139751, 1.0087526091633041, 1.0087526091633041, 1.0087526091633041, 1.0441831653812583, 1.0441831653812583, 1.044771621686733, 1.044771621686733, 1.044771621686733, 1.1025878105172384, 1.1025878105172384, 1.1025878105172384, 1.1025878105172384, 1.1025878105172384, 1.1125088238086847, 1.1125352006259785, 1.1125592282001568, 1.1375186676334281, 1.1375186676334281, 1.1375187382641785, 1.1375187382641785, 1.1375187382641785, 1.9304903546865857, 1.3276849223185487, 1.3276849481132236, 1.8621572067250352, 1.3276849274774838, 1.327684981646301, 5.476002673421162, 1.8627456630305101, 1.3276849558516262, 1.327684945533756, 1.3276849094212113, 2.4941935440826675, 3.089394814252356, 2.512223706962946, 1.3276849223185487, 4.500660900908041, 1.3276849274774838, 2.826333043412321, 2.1456589759849787, 1.3276849248980163, 1.3276849068417438, 2.181420327318083, 2.210103407608997, 0.9041155373408186, 2.203930916472503, 2.204365759573361, 0.7612384378412843, 0.8713734752372164, 0.9282810250684248, 0.9282810250684248, 0.9603827472139751, 0.9603827472139751, 1.0087526091633041, 1.0087526091633041, 1.0087526091633041, 1.0441831653812583, 1.0441831653812583, 1.044771621686733, 1.044771621686733, 1.044771621686733, 1.1025878105172384, 1.1025878105172384, 1.1025878105172384, 1.1025878105172384, 1.1025878105172384, 1.1125088238086847, 1.1125352006259785, 1.1125592282001568, 1.1375186676334281, 1.1375186676334281, 1.1375187382641785, 1.1375187382641785, 1.1375187382641785, 1.9304903546865857, 1.3276849223185487, 1.3276849481132236, 1.8621572067250352, 1.3276849274774838, 1.327684981646301, 5.476002673421162, 1.8627456630305101, 1.3276849558516262, 1.327684945533756, 1.3276849094212113, 2.4941935440826675, 3.089394814252356, 2.512223706962946, 1.3276849223185487, 4.500660900908041, 1.3276849274774838, 2.826333043412321, 2.1456589759849787, 1.3276849248980163, 1.3276849068417438, 2.181420327318083, 2.210103407608997, 2.3232726343359458, 0.8713734752372164, 3.089394814252356, 5.476002673421162, 0.7612384378412843, 0.9041155373408186, 0.9282810250684248, 0.9282810250684248, 0.9603827472139751, 0.9603827472139751, 1.0087526091633041, 1.0087526091633041, 1.0087526091633041, 1.0441831653812583, 1.0441831653812583, 1.044771621686733, 1.044771621686733, 1.044771621686733, 1.1025878105172384, 1.1025878105172384, 1.1025878105172384, 1.1025878105172384, 1.1025878105172384, 1.1125088238086847, 1.1125352006259785, 1.1125592282001568, 1.1375186676334281, 1.1375186676334281, 1.1375187382641785, 1.1375187382641785, 1.1375187382641785, 1.9304903546865857, 1.3276849223185487, 1.3276849481132236, 1.8621572067250352, 1.3276849274774838, 1.327684981646301, 1.8627456630305101, 1.3276849558516262, 1.327684945533756, 1.3276849094212113, 2.4941935440826675, 2.512223706962946, 1.3276849223185487, 4.500660900908041, 1.3276849274774838, 2.826333043412321, 2.1456589759849787, 1.3276849248980163, 1.3276849068417438, 2.181420327318083, 2.210103407608997, 2.3232726343359458, 5.692245243106639, 0.7612384378412843, 0.8713734752372164, 0.9041155373408186, 0.9282810250684248, 0.9282810250684248, 0.9603827472139751, 0.9603827472139751, 1.0087526091633041, 1.0087526091633041, 1.0087526091633041, 1.0441831653812583, 1.0441831653812583, 1.044771621686733, 1.044771621686733, 1.044771621686733, 1.1025878105172384, 1.1025878105172384, 1.1025878105172384, 1.1025878105172384, 1.1025878105172384, 1.1125088238086847, 1.1125352006259785, 1.1125592282001568, 1.1375186676334281, 1.1375186676334281, 1.1375187382641785, 1.1375187382641785, 1.1375187382641785, 1.1375187382641785, 1.1375187382641785, 1.9304903546865857, 1.3276849223185487, 1.3276849481132236, 1.8621572067250352, 1.3276849274774838, 1.327684981646301, 5.476002673421162, 1.8627456630305101, 1.3276849558516262, 1.327684945533756, 1.3276849094212113, 2.4941935440826675, 3.089394814252356, 2.512223706962946, 1.3276849223185487, 4.500660900908041, 1.3276849274774838, 2.826333043412321, 2.1456589759849787, 1.3276849248980163, 1.3276849068417438, 2.181420327318083, 2.210103407608997, 2.3232726343359458, 5.692245243106639, 3.089394814252356, 0.7612384378412843, 0.8713734752372164, 0.9041155373408186, 0.9282810250684248, 0.9282810250684248, 0.9603827472139751, 0.9603827472139751, 1.0087526091633041, 1.0087526091633041, 1.0087526091633041, 1.0441831653812583, 1.0441831653812583, 1.044771621686733, 1.044771621686733, 1.044771621686733, 1.1025878105172384, 1.1025878105172384, 1.1025878105172384, 1.1025878105172384, 1.1025878105172384, 1.1125088238086847, 1.1125352006259785, 1.1125592282001568, 1.1375186676334281, 1.1375186676334281, 1.1375187382641785, 1.1375187382641785, 1.1375187382641785, 1.1375187382641785, 1.9304903546865857, 1.3276849223185487, 1.3276849481132236, 1.8621572067250352, 1.3276849274774838, 1.327684981646301, 5.476002673421162, 1.8627456630305101, 1.3276849558516262, 1.327684945533756, 1.3276849094212113, 2.4941935440826675, 2.512223706962946, 1.3276849223185487, 4.500660900908041, 1.3276849274774838, 2.826333043412321, 2.1456589759849787, 1.3276849248980163, 1.3276849068417438, 2.181420327318083, 2.210103407608997, 2.3232726343359458, 5.692245243106639, 0.7612384378412843, 0.8713734752372164, 0.9041155373408186, 0.9282810250684248, 0.9282810250684248, 0.9603827472139751, 0.9603827472139751, 1.0087526091633041, 1.0087526091633041, 1.0087526091633041, 1.0441831653812583, 1.0441831653812583, 1.044771621686733, 1.044771621686733, 1.044771621686733, 1.1025878105172384, 1.1025878105172384, 1.1025878105172384, 1.1025878105172384, 1.1025878105172384, 1.1125088238086847, 1.1125352006259785, 1.1125592282001568, 1.1375186676334281, 1.1375186676334281, 1.1375187382641785, 1.1375187382641785, 1.1375187382641785, 1.1375187382641785, 1.1375187382641785, 1.9304903546865857, 1.3276849223185487, 1.3276849481132236, 1.8621572067250352, 1.3276849274774838, 1.327684981646301, 5.476002673421162, 1.8627456630305101, 1.3276849558516262, 1.327684945533756, 1.3276849094212113, 2.4941935440826675, 3.089394814252356, 2.512223706962946, 1.3276849223185487, 4.500660900908041, 1.3276849274774838, 2.826333043412321, 2.1456589759849787, 1.3276849248980163, 1.3276849068417438, 2.181420327318083, 2.210103407608997, 2.3232726343359458, 5.692245243106639, 0.7612384378412843, 0.8713734752372164, 0.9041155373408186, 0.9282810250684248, 0.9282810250684248, 0.9603827472139751, 0.9603827472139751, 1.0087526091633041, 1.0087526091633041, 1.0087526091633041, 1.0441831653812583, 1.0441831653812583, 1.044771621686733, 1.044771621686733, 1.044771621686733, 1.1025878105172384, 1.1025878105172384, 1.1025878105172384, 1.1025878105172384, 1.1025878105172384, 1.1125088238086847, 1.1125352006259785, 1.1125592282001568, 1.1375186676334281, 1.1375186676334281, 1.1375187382641785, 1.1375187382641785, 1.1375187382641785, 1.1375187382641785, 1.1375187382641785, 1.9304903546865857, 1.3276849223185487, 1.3276849481132236, 1.8621572067250352, 1.3276849274774838, 1.327684981646301, 5.476002673421162, 1.8627456630305101, 1.3276849558516262, 1.327684945533756, 1.3276849094212113, 2.4941935440826675, 3.089394814252356, 2.512223706962946, 1.3276849223185487, 4.500660900908041, 1.3276849274774838, 2.826333043412321, 2.1456589759849787, 1.3276849248980163, 1.3276849068417438, 2.181420327318083, 2.210103407608997, 2.3232726343359458, 5.692245243106639], \"Category\": [\"Default\", \"Default\", \"Default\", \"Default\", \"Default\", \"Default\", \"Default\", \"Default\", \"Default\", \"Default\", \"Default\", \"Default\", \"Default\", \"Default\", \"Default\", \"Default\", \"Default\", \"Default\", \"Default\", \"Default\", \"Default\", \"Default\", \"Default\", \"Default\", \"Default\", \"Default\", \"Default\", \"Default\", \"Default\", \"Default\", \"Topic1\", \"Topic1\", \"Topic1\", \"Topic1\", \"Topic1\", \"Topic1\", \"Topic1\", \"Topic1\", \"Topic1\", \"Topic1\", \"Topic1\", \"Topic1\", \"Topic1\", \"Topic1\", \"Topic1\", \"Topic1\", \"Topic1\", \"Topic1\", \"Topic1\", \"Topic1\", \"Topic1\", \"Topic1\", \"Topic1\", \"Topic1\", \"Topic1\", \"Topic1\", \"Topic1\", \"Topic1\", \"Topic1\", \"Topic1\", \"Topic1\", \"Topic1\", \"Topic1\", \"Topic1\", \"Topic1\", \"Topic1\", \"Topic1\", \"Topic1\", \"Topic1\", \"Topic2\", \"Topic2\", \"Topic2\", \"Topic2\", \"Topic2\", \"Topic2\", \"Topic2\", \"Topic2\", \"Topic2\", \"Topic2\", \"Topic2\", \"Topic2\", \"Topic2\", \"Topic2\", \"Topic2\", \"Topic2\", \"Topic2\", \"Topic2\", \"Topic2\", \"Topic2\", \"Topic2\", \"Topic2\", \"Topic2\", \"Topic2\", \"Topic2\", \"Topic2\", \"Topic2\", \"Topic2\", \"Topic2\", \"Topic2\", \"Topic2\", \"Topic2\", \"Topic2\", \"Topic2\", \"Topic2\", \"Topic2\", \"Topic2\", \"Topic3\", \"Topic3\", \"Topic3\", \"Topic3\", \"Topic3\", \"Topic3\", \"Topic3\", \"Topic3\", \"Topic3\", \"Topic3\", \"Topic3\", \"Topic3\", \"Topic3\", \"Topic3\", \"Topic3\", \"Topic3\", \"Topic3\", \"Topic3\", \"Topic3\", \"Topic3\", \"Topic3\", \"Topic3\", \"Topic3\", \"Topic3\", \"Topic3\", \"Topic3\", \"Topic3\", \"Topic3\", \"Topic3\", \"Topic3\", \"Topic3\", \"Topic3\", \"Topic3\", \"Topic3\", \"Topic3\", \"Topic3\", \"Topic3\", \"Topic3\", \"Topic3\", \"Topic3\", \"Topic3\", \"Topic3\", \"Topic3\", \"Topic3\", \"Topic3\", \"Topic4\", \"Topic4\", \"Topic4\", \"Topic4\", \"Topic4\", \"Topic4\", \"Topic4\", \"Topic4\", \"Topic4\", \"Topic4\", \"Topic4\", \"Topic4\", \"Topic4\", \"Topic4\", \"Topic4\", \"Topic4\", \"Topic4\", \"Topic4\", \"Topic4\", \"Topic4\", \"Topic4\", \"Topic4\", \"Topic4\", \"Topic4\", \"Topic4\", \"Topic4\", \"Topic4\", \"Topic4\", \"Topic4\", \"Topic4\", \"Topic4\", \"Topic4\", \"Topic4\", \"Topic4\", \"Topic4\", \"Topic4\", \"Topic4\", \"Topic4\", \"Topic4\", \"Topic4\", \"Topic4\", \"Topic4\", \"Topic4\", \"Topic4\", \"Topic4\", \"Topic4\", \"Topic4\", \"Topic4\", \"Topic5\", \"Topic5\", \"Topic5\", \"Topic5\", \"Topic5\", \"Topic5\", \"Topic5\", \"Topic5\", \"Topic5\", \"Topic5\", \"Topic5\", \"Topic5\", \"Topic5\", \"Topic5\", \"Topic5\", \"Topic5\", \"Topic5\", \"Topic5\", \"Topic5\", \"Topic5\", \"Topic5\", \"Topic5\", \"Topic5\", \"Topic5\", \"Topic5\", \"Topic5\", \"Topic5\", \"Topic5\", \"Topic5\", \"Topic5\", \"Topic5\", \"Topic5\", \"Topic5\", \"Topic5\", \"Topic5\", \"Topic5\", \"Topic5\", \"Topic5\", \"Topic5\", \"Topic5\", \"Topic5\", \"Topic5\", \"Topic5\", \"Topic5\", \"Topic5\", \"Topic5\", \"Topic5\", \"Topic5\", \"Topic6\", \"Topic6\", \"Topic6\", \"Topic6\", \"Topic6\", \"Topic6\", \"Topic6\", \"Topic6\", \"Topic6\", \"Topic6\", \"Topic6\", \"Topic6\", \"Topic6\", \"Topic6\", \"Topic6\", \"Topic6\", \"Topic6\", \"Topic6\", \"Topic6\", \"Topic6\", \"Topic6\", \"Topic6\", \"Topic6\", \"Topic6\", \"Topic6\", \"Topic6\", \"Topic6\", \"Topic6\", \"Topic6\", \"Topic6\", \"Topic6\", \"Topic6\", \"Topic6\", \"Topic6\", \"Topic6\", \"Topic6\", \"Topic6\", \"Topic6\", \"Topic6\", \"Topic6\", \"Topic6\", \"Topic6\", \"Topic6\", \"Topic6\", \"Topic6\", \"Topic6\", \"Topic6\", \"Topic6\", \"Topic6\", \"Topic6\", \"Topic6\", \"Topic7\", \"Topic7\", \"Topic7\", \"Topic7\", \"Topic7\", \"Topic7\", \"Topic7\", \"Topic7\", \"Topic7\", \"Topic7\", \"Topic7\", \"Topic7\", \"Topic7\", \"Topic7\", \"Topic7\", \"Topic7\", \"Topic7\", \"Topic7\", \"Topic7\", \"Topic7\", \"Topic7\", \"Topic7\", \"Topic7\", \"Topic7\", \"Topic7\", \"Topic7\", \"Topic7\", \"Topic7\", \"Topic7\", \"Topic7\", \"Topic7\", \"Topic7\", \"Topic7\", \"Topic7\", \"Topic7\", \"Topic7\", \"Topic7\", \"Topic7\", \"Topic7\", \"Topic7\", \"Topic7\", \"Topic7\", \"Topic7\", \"Topic7\", \"Topic7\", \"Topic7\", \"Topic7\", \"Topic7\", \"Topic7\", \"Topic7\", \"Topic7\", \"Topic8\", \"Topic8\", \"Topic8\", \"Topic8\", \"Topic8\", \"Topic8\", \"Topic8\", \"Topic8\", \"Topic8\", \"Topic8\", \"Topic8\", \"Topic8\", \"Topic8\", \"Topic8\", \"Topic8\", \"Topic8\", \"Topic8\", \"Topic8\", \"Topic8\", \"Topic8\", \"Topic8\", \"Topic8\", \"Topic8\", \"Topic8\", \"Topic8\", \"Topic8\", \"Topic8\", \"Topic8\", \"Topic8\", \"Topic8\", \"Topic8\", \"Topic8\", \"Topic8\", \"Topic8\", \"Topic8\", \"Topic8\", \"Topic8\", \"Topic8\", \"Topic8\", \"Topic8\", \"Topic8\", \"Topic8\", \"Topic8\", \"Topic8\", \"Topic8\", \"Topic8\", \"Topic8\", \"Topic8\", \"Topic8\", \"Topic8\", \"Topic8\", \"Topic9\", \"Topic9\", \"Topic9\", \"Topic9\", \"Topic9\", \"Topic9\", \"Topic9\", \"Topic9\", \"Topic9\", \"Topic9\", \"Topic9\", \"Topic9\", \"Topic9\", \"Topic9\", \"Topic9\", \"Topic9\", \"Topic9\", \"Topic9\", \"Topic9\", \"Topic9\", \"Topic9\", \"Topic9\", \"Topic9\", \"Topic9\", \"Topic9\", \"Topic9\", \"Topic9\", \"Topic9\", \"Topic9\", \"Topic9\", \"Topic9\", \"Topic9\", \"Topic9\", \"Topic9\", \"Topic9\", \"Topic9\", \"Topic9\", \"Topic9\", \"Topic9\", \"Topic9\", \"Topic9\", \"Topic9\", \"Topic9\", \"Topic9\", \"Topic9\", \"Topic9\", \"Topic9\", \"Topic9\", \"Topic9\", \"Topic9\", \"Topic10\", \"Topic10\", \"Topic10\", \"Topic10\", \"Topic10\", \"Topic10\", \"Topic10\", \"Topic10\", \"Topic10\", \"Topic10\", \"Topic10\", \"Topic10\", \"Topic10\", \"Topic10\", \"Topic10\", \"Topic10\", \"Topic10\", \"Topic10\", \"Topic10\", \"Topic10\", \"Topic10\", \"Topic10\", \"Topic10\", \"Topic10\", \"Topic10\", \"Topic10\", \"Topic10\", \"Topic10\", \"Topic10\", \"Topic10\", \"Topic10\", \"Topic10\", \"Topic10\", \"Topic10\", \"Topic10\", \"Topic10\", \"Topic10\", \"Topic10\", \"Topic10\", \"Topic10\", \"Topic10\", \"Topic10\", \"Topic10\", \"Topic10\", \"Topic10\", \"Topic10\", \"Topic10\", \"Topic10\", \"Topic10\", \"Topic10\", \"Topic11\", \"Topic11\", \"Topic11\", \"Topic11\", \"Topic11\", \"Topic11\", \"Topic11\", \"Topic11\", \"Topic11\", \"Topic11\", \"Topic11\", \"Topic11\", \"Topic11\", \"Topic11\", \"Topic11\", \"Topic11\", \"Topic11\", \"Topic11\", \"Topic11\", \"Topic11\", \"Topic11\", \"Topic11\", \"Topic11\", \"Topic11\", \"Topic11\", \"Topic11\", \"Topic11\", \"Topic11\", \"Topic11\", \"Topic11\", \"Topic11\", \"Topic11\", \"Topic11\", \"Topic11\", \"Topic11\", \"Topic11\", \"Topic11\", \"Topic11\", \"Topic11\", \"Topic11\", \"Topic11\", \"Topic11\", \"Topic11\", \"Topic11\", \"Topic11\", \"Topic11\", \"Topic11\", \"Topic11\", \"Topic11\", \"Topic11\", \"Topic11\", \"Topic11\", \"Topic12\", \"Topic12\", \"Topic12\", \"Topic12\", \"Topic12\", \"Topic12\", \"Topic12\", \"Topic12\", \"Topic12\", \"Topic12\", \"Topic12\", \"Topic12\", \"Topic12\", \"Topic12\", \"Topic12\", \"Topic12\", \"Topic12\", \"Topic12\", \"Topic12\", \"Topic12\", \"Topic12\", \"Topic12\", \"Topic12\", \"Topic12\", \"Topic12\", \"Topic12\", \"Topic12\", \"Topic12\", \"Topic12\", \"Topic12\", \"Topic12\", \"Topic12\", \"Topic12\", \"Topic12\", \"Topic12\", \"Topic12\", \"Topic12\", \"Topic12\", \"Topic12\", \"Topic12\", \"Topic12\", \"Topic12\", \"Topic12\", \"Topic12\", \"Topic12\", \"Topic12\", \"Topic12\", \"Topic12\", \"Topic12\", \"Topic12\", \"Topic12\", \"Topic12\", \"Topic13\", \"Topic13\", \"Topic13\", \"Topic13\", \"Topic13\", \"Topic13\", \"Topic13\", \"Topic13\", \"Topic13\", \"Topic13\", \"Topic13\", \"Topic13\", \"Topic13\", \"Topic13\", \"Topic13\", \"Topic13\", \"Topic13\", \"Topic13\", \"Topic13\", \"Topic13\", \"Topic13\", \"Topic13\", \"Topic13\", \"Topic13\", \"Topic13\", \"Topic13\", \"Topic13\", \"Topic13\", \"Topic13\", \"Topic13\", \"Topic13\", \"Topic13\", \"Topic13\", \"Topic13\", \"Topic13\", \"Topic13\", \"Topic13\", \"Topic13\", \"Topic13\", \"Topic13\", \"Topic13\", \"Topic13\", \"Topic13\", \"Topic13\", \"Topic13\", \"Topic13\", \"Topic13\", \"Topic13\", \"Topic13\", \"Topic13\", \"Topic13\", \"Topic13\", \"Topic13\", \"Topic14\", \"Topic14\", \"Topic14\", \"Topic14\", \"Topic14\", \"Topic14\", \"Topic14\", \"Topic14\", \"Topic14\", \"Topic14\", \"Topic14\", \"Topic14\", \"Topic14\", \"Topic14\", \"Topic14\", \"Topic14\", \"Topic14\", \"Topic14\", \"Topic14\", \"Topic14\", \"Topic14\", \"Topic14\", \"Topic14\", \"Topic14\", \"Topic14\", \"Topic14\", \"Topic14\", \"Topic14\", \"Topic14\", \"Topic14\", \"Topic14\", \"Topic14\", \"Topic14\", \"Topic14\", \"Topic14\", \"Topic14\", \"Topic14\", \"Topic14\", \"Topic14\", \"Topic14\", \"Topic14\", \"Topic14\", \"Topic14\", \"Topic14\", \"Topic14\", \"Topic14\", \"Topic14\", \"Topic14\", \"Topic14\", \"Topic14\", \"Topic14\", \"Topic14\", \"Topic14\", \"Topic15\", \"Topic15\", \"Topic15\", \"Topic15\", \"Topic15\", \"Topic15\", \"Topic15\", \"Topic15\", \"Topic15\", \"Topic15\", \"Topic15\", \"Topic15\", \"Topic15\", \"Topic15\", \"Topic15\", \"Topic15\", \"Topic15\", \"Topic15\", \"Topic15\", \"Topic15\", \"Topic15\", \"Topic15\", \"Topic15\", \"Topic15\", \"Topic15\", \"Topic15\", \"Topic15\", \"Topic15\", \"Topic15\", \"Topic15\", \"Topic15\", \"Topic15\", \"Topic15\", \"Topic15\", \"Topic15\", \"Topic15\", \"Topic15\", \"Topic15\", \"Topic15\", \"Topic15\", \"Topic15\", \"Topic15\", \"Topic15\", \"Topic15\", \"Topic15\", \"Topic15\", \"Topic15\", \"Topic15\", \"Topic15\", \"Topic15\", \"Topic15\", \"Topic15\", \"Topic15\", \"Topic15\", \"Topic16\", \"Topic16\", \"Topic16\", \"Topic16\", \"Topic16\", \"Topic16\", \"Topic16\", \"Topic16\", \"Topic16\", \"Topic16\", \"Topic16\", \"Topic16\", \"Topic16\", \"Topic16\", \"Topic16\", \"Topic16\", \"Topic16\", \"Topic16\", \"Topic16\", \"Topic16\", \"Topic16\", \"Topic16\", \"Topic16\", \"Topic16\", \"Topic16\", \"Topic16\", \"Topic16\", \"Topic16\", \"Topic16\", \"Topic16\", \"Topic16\", \"Topic16\", \"Topic16\", \"Topic16\", \"Topic16\", \"Topic16\", \"Topic16\", \"Topic16\", \"Topic16\", \"Topic16\", \"Topic16\", \"Topic16\", \"Topic16\", \"Topic16\", \"Topic16\", \"Topic16\", \"Topic16\", \"Topic16\", \"Topic16\", \"Topic16\", \"Topic16\", \"Topic16\", \"Topic16\", \"Topic17\", \"Topic17\", \"Topic17\", \"Topic17\", \"Topic17\", \"Topic17\", \"Topic17\", \"Topic17\", \"Topic17\", \"Topic17\", \"Topic17\", \"Topic17\", \"Topic17\", \"Topic17\", \"Topic17\", \"Topic17\", \"Topic17\", \"Topic17\", \"Topic17\", \"Topic17\", \"Topic17\", \"Topic17\", \"Topic17\", \"Topic17\", \"Topic17\", \"Topic17\", \"Topic17\", \"Topic17\", \"Topic17\", \"Topic17\", \"Topic17\", \"Topic17\", \"Topic17\", \"Topic17\", \"Topic17\", \"Topic17\", \"Topic17\", \"Topic17\", \"Topic17\", \"Topic17\", \"Topic17\", \"Topic17\", \"Topic17\", \"Topic17\", \"Topic17\", \"Topic17\", \"Topic17\", \"Topic17\", \"Topic17\", \"Topic17\", \"Topic17\", \"Topic17\", \"Topic17\", \"Topic17\", \"Topic17\", \"Topic18\", \"Topic18\", \"Topic18\", \"Topic18\", \"Topic18\", \"Topic18\", \"Topic18\", \"Topic18\", \"Topic18\", \"Topic18\", \"Topic18\", \"Topic18\", \"Topic18\", \"Topic18\", \"Topic18\", \"Topic18\", \"Topic18\", \"Topic18\", \"Topic18\", \"Topic18\", \"Topic18\", \"Topic18\", \"Topic18\", \"Topic18\", \"Topic18\", \"Topic18\", \"Topic18\", \"Topic18\", \"Topic18\", \"Topic18\", \"Topic18\", \"Topic18\", \"Topic18\", \"Topic18\", \"Topic18\", \"Topic18\", \"Topic18\", \"Topic18\", \"Topic18\", \"Topic18\", \"Topic18\", \"Topic18\", \"Topic18\", \"Topic18\", \"Topic18\", \"Topic18\", \"Topic18\", \"Topic18\", \"Topic18\", \"Topic18\", \"Topic18\", \"Topic18\", \"Topic18\", \"Topic18\", \"Topic19\", \"Topic19\", \"Topic19\", \"Topic19\", \"Topic19\", \"Topic19\", \"Topic19\", \"Topic19\", \"Topic19\", \"Topic19\", \"Topic19\", \"Topic19\", \"Topic19\", \"Topic19\", \"Topic19\", \"Topic19\", \"Topic19\", \"Topic19\", \"Topic19\", \"Topic19\", \"Topic19\", \"Topic19\", \"Topic19\", \"Topic19\", \"Topic19\", \"Topic19\", \"Topic19\", \"Topic19\", \"Topic19\", \"Topic19\", \"Topic19\", \"Topic19\", \"Topic19\", \"Topic19\", \"Topic19\", \"Topic19\", \"Topic19\", \"Topic19\", \"Topic19\", \"Topic19\", \"Topic19\", \"Topic19\", \"Topic19\", \"Topic19\", \"Topic19\", \"Topic19\", \"Topic19\", \"Topic19\", \"Topic19\", \"Topic19\", \"Topic19\", \"Topic19\", \"Topic19\", \"Topic19\", \"Topic19\", \"Topic20\", \"Topic20\", \"Topic20\", \"Topic20\", \"Topic20\", \"Topic20\", \"Topic20\", \"Topic20\", \"Topic20\", \"Topic20\", \"Topic20\", \"Topic20\", \"Topic20\", \"Topic20\", \"Topic20\", \"Topic20\", \"Topic20\", \"Topic20\", \"Topic20\", \"Topic20\", \"Topic20\", \"Topic20\", \"Topic20\", \"Topic20\", \"Topic20\", \"Topic20\", \"Topic20\", \"Topic20\", \"Topic20\", \"Topic20\", \"Topic20\", \"Topic20\", \"Topic20\", \"Topic20\", \"Topic20\", \"Topic20\", \"Topic20\", \"Topic20\", \"Topic20\", \"Topic20\", \"Topic20\", \"Topic20\", \"Topic20\", \"Topic20\", \"Topic20\", \"Topic20\", \"Topic20\", \"Topic20\", \"Topic20\", \"Topic20\", \"Topic20\", \"Topic20\", \"Topic20\", \"Topic20\", \"Topic20\"], \"logprob\": [30.0, 29.0, 28.0, 27.0, 26.0, 25.0, 24.0, 23.0, 22.0, 21.0, 20.0, 19.0, 18.0, 17.0, 16.0, 15.0, 14.0, 13.0, 12.0, 11.0, 10.0, 9.0, 8.0, 7.0, 6.0, 5.0, 4.0, 3.0, 2.0, 1.0, -3.0603, -3.062, -4.1266, -4.1266, -4.1266, -4.1266, -4.1266, -4.1266, -4.1266, -4.1266, -4.1266, -4.1266, -4.1266, -4.1266, -4.1266, -4.1266, -4.1266, -4.1266, -4.1266, -4.1266, -4.1266, -4.1266, -4.1266, -4.1276, -4.1279, -4.1281, -4.1281, -4.1282, -4.1283, -4.1284, -2.7774, -2.7774, -3.0603, -3.0607, -4.1266, -4.1266, -4.1266, -4.1266, -4.1266, -2.7194, -2.0385, -3.3884, -3.3884, -3.3884, -3.3884, -3.3884, -3.3884, -3.3884, -3.3884, -3.3884, -3.3884, -3.3884, -3.3884, -3.3884, -3.3884, -3.3884, -3.3884, -3.3884, -3.3884, -3.3884, -6.4329, -6.4329, -6.4329, -6.4329, -6.4329, -6.4329, -6.4329, -6.4329, -6.4329, -6.4329, -6.4329, -6.4329, -6.4329, -6.4329, -6.4329, -6.4329, -3.287, -3.287, -3.287, -3.287, -3.287, -3.287, -3.287, -3.287, -2.6179, -2.2206, -2.6179, -2.2206, -2.6179, -3.287, -3.287, -6.3315, -6.3315, -6.3315, -6.3315, -6.3315, -6.3315, -6.3315, -6.3315, -6.3315, -6.3315, -6.3315, -6.3315, -6.3315, -6.3315, -6.3315, -6.3315, -6.3315, -6.3315, -6.3315, -6.3315, -6.3315, -6.3315, -6.3315, -6.3315, -6.3315, -6.3315, -6.3315, -6.3315, -6.3315, -6.3315, -2.9009, -2.9009, -2.9009, -2.9009, -2.9009, -1.8345, -2.9009, -2.9009, -2.9009, -2.9009, -2.9009, -5.9454, -5.9454, -5.9454, -5.9454, -5.9454, -5.9454, -5.9454, -5.9454, -5.9454, -5.9454, -5.9454, -5.9454, -5.9454, -5.9454, -5.9454, -5.9454, -5.9454, -5.9454, -5.9454, -5.9454, -5.9454, -5.9454, -5.9454, -5.9454, -5.9454, -5.9454, -5.9454, -5.9454, -5.9454, -5.9454, -5.9454, -5.9454, -5.9454, -5.9454, -5.9454, -5.9454, -5.9454, -2.8471, -2.8471, -2.8471, -2.8471, -2.8471, -2.8471, -2.8471, -2.8471, -2.8471, -2.8471, -2.8471, -2.8471, -5.8916, -5.8916, -5.8916, -5.8916, -5.8916, -5.8916, -5.8916, -5.8916, -5.8916, -5.8916, -5.8916, -5.8916, -5.8916, -5.8916, -5.8916, -5.8916, -5.8916, -5.8916, -5.8916, -5.8916, -5.8916, -5.8916, -5.8916, -5.8916, -5.8916, -5.8916, -5.8916, -5.8916, -5.8916, -5.8916, -5.8916, -5.8916, -5.8916, -5.8916, -5.8916, -5.8916, -2.7923, -2.7923, -2.7923, -2.7923, -2.7923, -2.1233, -2.7923, -2.1233, -2.7923, -5.8368, -5.8368, -5.8368, -5.8368, -5.8368, -5.8368, -5.8368, -5.8368, -5.8368, -5.8368, -5.8368, -5.8368, -5.8368, -5.8368, -5.8368, -5.8368, -5.8368, -5.8368, -5.8368, -5.8368, -5.8368, -5.7933, -5.7972, -5.7975, -5.8006, -5.801, -5.8033, -5.8052, -5.8058, -5.8096, -5.7371, -5.8165, -5.8056, -5.8035, -5.7813, -5.7789, -5.8055, -5.8102, -5.8368, -5.8368, -5.8368, -5.8368, -2.6659, -2.6659, -2.6659, -2.6659, -2.6659, -2.6659, -1.9969, -2.6659, -5.7104, -5.7104, -5.7104, -5.7104, -5.7104, -5.7104, -5.7104, -5.7104, -5.7104, -5.7104, -5.7104, -5.7104, -5.7104, -5.7104, -5.7104, -5.7104, -5.7104, -5.7104, -5.7104, -5.7104, -5.7104, -5.7104, -5.7104, -5.7104, -5.7104, -5.7104, -5.7104, -5.7104, -5.7104, -5.7104, -5.7104, -5.7104, -5.7104, -5.7104, -5.7104, -5.7104, -5.7104, -5.7104, -5.7104, -5.7104, -5.7104, -5.7104, -5.7104, -2.6659, -2.6659, -2.6659, -2.6659, -2.6659, -2.6659, -2.6659, -2.6659, -2.6659, -5.7104, -5.7104, -5.7104, -5.7104, -5.7104, -5.7104, -5.7104, -5.7104, -5.7104, -5.7104, -5.7104, -5.7104, -5.7104, -5.7104, -5.7104, -5.7104, -5.7104, -5.7104, -5.7104, -5.7104, -5.7104, -5.7104, -5.7104, -5.7104, -5.7104, -5.7104, -5.7104, -5.7104, -5.7104, -5.7104, -5.7104, -5.7104, -5.7104, -5.7104, -5.7104, -5.7104, -5.7104, -5.7104, -5.7104, -5.7104, -5.7104, -5.7104, -2.5981, -2.5984, -2.5988, -2.5987, -2.5992, -2.5987, -2.5985, -2.5986, -5.6401, -5.6401, -5.6401, -5.6401, -5.6401, -5.6401, -5.6401, -5.6401, -5.6401, -5.6401, -5.6401, -5.6401, -5.6401, -5.6401, -5.6401, -5.6401, -5.6401, -5.6401, -5.6401, -5.6401, -5.6401, -5.6401, -5.6401, -5.6401, -5.6401, -5.6401, -5.6401, -5.6401, -5.6401, -5.6401, -5.6401, -5.6401, -5.6401, -5.6401, -5.6401, -5.6401, -5.6401, -5.6401, -5.6401, -5.6401, -5.6401, -5.6401, -2.5974, -2.5974, -2.5974, -2.5974, -2.5974, -2.5974, -2.5974, -2.5974, -5.6419, -5.6419, -5.6419, -5.6419, -5.6419, -5.6419, -5.6419, -5.6419, -5.6419, -5.6419, -5.6419, -5.6419, -5.6419, -5.6419, -5.6419, -5.6419, -5.6419, -5.6419, -5.6419, -5.6419, -5.6419, -5.6419, -5.6419, -5.6419, -5.6419, -5.6419, -5.6419, -5.6419, -5.6419, -5.6419, -5.6419, -5.6419, -5.6419, -5.6419, -5.6419, -5.6419, -5.6419, -5.6419, -5.6419, -5.6419, -5.6419, -5.6419, -2.5258, -2.5258, -1.8549, -1.8567, -2.5258, -5.5703, -5.5703, -5.5703, -5.5703, -5.5703, -5.5703, -5.5703, -5.5703, -5.5703, -5.5703, -5.505, -5.5703, -5.5703, -5.5703, -5.5122, -5.5188, -5.5703, -5.5703, -5.5703, -5.5703, -5.5703, -5.5703, -5.5703, -5.5703, -5.5703, -5.507, -5.5064, -5.5096, -5.5089, -5.5703, -5.5703, -5.5703, -5.5703, -5.5703, -5.5703, -5.5703, -5.5703, -5.5703, -5.5703, -5.5703, -5.5703, -5.5703, -5.5703, -5.5703, -5.5703, -5.5703, -5.5703, -2.3582, -2.3582, -2.3582, -2.3582, -2.3582, -5.4027, -5.4027, -5.4027, -5.4027, -5.4027, -5.4027, -5.4027, -5.4027, -5.4027, -5.4027, -5.4027, -5.4027, -5.4027, -5.4027, -5.4027, -5.4027, -5.4027, -5.4027, -5.4027, -5.4027, -5.4027, -5.4027, -5.4027, -5.4027, -5.4027, -5.4027, -5.4027, -5.4027, -5.4027, -5.4027, -5.4027, -5.4027, -5.4027, -5.4027, -5.4027, -5.4027, -5.4027, -5.4027, -5.4027, -5.4027, -5.4027, -5.4027, -5.4027, -5.4027, -5.4027, -5.4027, -5.4027, -2.2637, -2.2637, -2.2637, -2.2637, -5.3083, -5.3083, -5.3083, -5.3083, -5.3083, -5.3083, -5.3083, -5.3083, -5.3083, -5.3083, -5.3083, -5.3083, -5.3083, -5.3083, -5.3083, -5.3083, -5.3083, -5.3083, -5.3083, -5.3083, -5.3083, -5.3083, -5.3083, -5.3083, -5.3083, -5.3083, -5.3083, -5.3083, -5.3083, -5.3083, -5.3083, -5.3083, -5.3083, -5.3083, -5.3083, -5.3083, -5.3083, -5.3083, -5.3083, -5.3083, -5.3083, -5.3083, -5.3083, -5.3083, -5.3083, -5.3083, -5.3083, -5.3083, -5.3083, -2.2637, -2.2637, -2.2637, -2.2637, -5.3083, -5.3083, -5.3083, -5.3083, -5.3083, -5.3083, -5.3083, -5.3083, -5.3083, -5.3083, -5.3083, -5.3083, -5.3083, -5.3083, -5.3083, -5.3083, -5.3083, -5.3083, -5.3083, -5.3083, -5.3083, -5.3083, -5.3083, -5.3083, -5.3083, -5.3083, -5.3083, -5.3083, -5.3083, -5.3083, -5.3083, -5.3083, -5.3083, -5.3083, -5.3083, -5.3083, -5.3083, -5.3083, -5.3083, -5.3083, -5.3083, -5.3083, -5.3083, -5.3083, -5.3083, -5.3083, -5.3083, -5.3083, -5.3083, -2.1595, -2.1595, -2.1595, -5.204, -5.204, -5.204, -5.204, -5.204, -5.204, -5.204, -5.204, -5.204, -5.204, -5.204, -5.204, -5.204, -5.204, -5.204, -5.204, -5.204, -5.204, -5.204, -5.204, -5.204, -5.204, -5.204, -5.204, -5.204, -5.204, -5.204, -5.204, -5.204, -5.204, -5.204, -5.204, -5.204, -5.204, -5.204, -5.204, -5.204, -5.204, -5.204, -5.204, -5.204, -5.204, -5.204, -5.204, -5.204, -5.204, -5.204, -5.204, -5.204, -5.204, -5.204, -2.1595, -2.1595, -2.1595, -5.204, -5.204, -5.204, -5.204, -5.204, -5.204, -5.204, -5.204, -5.204, -5.204, -5.204, -5.204, -5.204, -5.204, -5.204, -5.204, -5.204, -5.204, -5.204, -5.204, -5.204, -5.204, -5.204, -5.204, -5.204, -5.204, -5.204, -5.204, -5.204, -5.204, -5.204, -5.204, -5.204, -5.204, -5.204, -5.204, -5.204, -5.204, -5.204, -5.204, -5.204, -5.204, -5.204, -5.204, -5.204, -5.204, -5.204, -5.204, -5.204, -5.204, -1.9113, -4.9558, -4.9558, -4.9558, -4.9558, -4.9558, -4.9558, -4.9558, -4.9558, -4.9558, -4.9558, -4.9558, -4.9558, -4.9558, -4.9558, -4.9558, -4.9558, -4.9558, -4.9558, -4.9558, -4.9558, -4.9558, -4.9558, -4.9558, -4.9558, -4.9558, -4.9558, -4.9558, -4.9558, -4.9558, -4.9558, -4.9558, -4.9558, -4.9558, -4.9558, -4.9558, -4.9558, -4.9558, -4.9558, -4.9558, -4.9558, -4.9558, -4.9558, -4.9558, -4.9558, -4.9558, -4.9558, -4.9558, -4.9558, -4.9558, -4.9558, -4.9558, -4.9558, -4.9558, -4.9558, -1.9113, -4.9558, -4.9558, -4.9558, -4.9558, -4.9558, -4.9558, -4.9558, -4.9558, -4.9558, -4.9558, -4.9558, -4.9558, -4.9558, -4.9558, -4.9558, -4.9558, -4.9558, -4.9558, -4.9558, -4.9558, -4.9558, -4.9558, -4.9558, -4.9558, -4.9558, -4.9558, -4.9558, -4.9558, -4.9558, -4.9558, -4.9558, -4.9558, -4.9558, -4.9558, -4.9558, -4.9558, -4.9558, -4.9558, -4.9558, -4.9558, -4.9558, -4.9558, -4.9558, -4.9558, -4.9558, -4.9558, -4.9558, -4.9558, -4.9558, -4.9558, -4.9558, -4.9558, -4.9558, -4.804, -4.804, -4.804, -4.804, -4.804, -4.804, -4.804, -4.804, -4.804, -4.804, -4.804, -4.804, -4.804, -4.804, -4.804, -4.804, -4.804, -4.804, -4.804, -4.804, -4.804, -4.804, -4.804, -4.804, -4.804, -4.804, -4.804, -4.804, -4.804, -4.804, -4.804, -4.804, -4.804, -4.804, -4.804, -4.804, -4.804, -4.804, -4.804, -4.804, -4.804, -4.804, -4.804, -4.804, -4.804, -4.804, -4.804, -4.804, -4.804, -4.804, -4.804, -4.804, -4.804, -4.804, -4.804, -4.804, -4.804, -4.804, -4.804, -4.804, -4.804, -4.804, -4.804, -4.804, -4.804, -4.804, -4.804, -4.804, -4.804, -4.804, -4.804, -4.804, -4.804, -4.804, -4.804, -4.804, -4.804, -4.804, -4.804, -4.804, -4.804, -4.804, -4.804, -4.804, -4.804, -4.804, -4.804, -4.804, -4.804, -4.804, -4.804, -4.804, -4.804, -4.804, -4.804, -4.804, -4.804, -4.804, -4.804, -4.804, -4.804, -4.804, -4.804, -4.804, -4.804, -4.804, -4.804, -4.804, -4.804, -4.804], \"loglift\": [30.0, 29.0, 28.0, 27.0, 26.0, 25.0, 24.0, 23.0, 22.0, 21.0, 20.0, 19.0, 18.0, 17.0, 16.0, 15.0, 14.0, 13.0, 12.0, 11.0, 10.0, 9.0, 8.0, 7.0, 6.0, 5.0, 4.0, 3.0, 2.0, 1.0, 0.9523, 0.9519, 0.8846, 0.8846, 0.8846, 0.8846, 0.8846, 0.8846, 0.8846, 0.8846, 0.8846, 0.8846, 0.8846, 0.8846, 0.8846, 0.8846, 0.8846, 0.8846, 0.8846, 0.8846, 0.8846, 0.8846, 0.8846, 0.8838, 0.8835, 0.8834, 0.8833, 0.8833, 0.8832, 0.8831, 0.8645, 0.5535, 0.5188, 0.171, -0.5089, 0.4011, -0.0202, 0.5048, 0.503, 1.8353, 1.7754, 1.6463, 1.6463, 1.6463, 1.6463, 1.6463, 1.6463, 1.6463, 1.6463, 1.6463, 1.6463, 1.6463, 1.308, 1.3077, 1.2719, 1.0157, 1.0085, 0.8907, 0.8017, 0.2293, -0.842, -0.9771, -1.014, -1.0404, -1.0404, -1.0744, -1.0744, -1.1235, -1.1235, -1.8948, -1.1581, -1.9079, -1.2125, -1.9578, -2.8539, -1.2125, 1.8251, 1.8251, 1.8251, 1.8251, 1.8251, 1.8251, 1.532, 1.4314, 1.3402, 1.1103, 1.024, 1.0111, 0.9611, 0.8194, 0.5269, -0.7406, -0.8757, -0.9126, -0.939, -0.939, -0.973, -0.973, -1.0221, -1.0221, -1.0221, -1.0566, -1.0566, -1.0572, -1.0572, -1.0572, -1.6712, -1.2968, -1.2968, -1.6351, -1.2968, -1.2968, -2.7138, -1.6354, -1.2968, -1.2968, -1.2968, -1.9273, -2.1414, -1.9346, -1.2968, 2.2695, 2.2695, 2.2695, 2.2695, 2.2695, 2.1236, 1.4961, 1.3782, 1.2892, 1.2055, 0.7168, -0.3545, -0.4896, -0.5265, -0.5529, -0.5529, -0.5869, -0.5869, -0.636, -0.636, -0.636, -0.6705, -0.6705, -0.6711, -0.6711, -0.6711, -0.725, -0.725, -0.725, -0.725, -1.2851, -0.9107, -0.9107, -1.249, -0.9107, -0.9107, -1.2494, -0.9107, -0.9107, -0.9107, -1.5413, -0.9107, -2.1315, -0.9107, -1.3907, -0.9107, -0.9107, -1.4073, 2.339, 2.339, 2.339, 2.339, 2.339, 2.339, 1.7825, 1.678, 1.557, 1.2593, 1.1654, 0.3846, -0.3007, -0.4358, -0.4727, -0.4991, -0.4991, -0.5331, -0.5331, -0.5822, -0.5822, -0.5822, -0.6168, -0.6168, -0.6173, -0.6173, -0.6173, -0.6712, -0.6712, -0.6712, -1.2313, -0.857, -0.857, -1.1953, -0.857, -0.857, -2.2739, -1.1956, -0.857, -0.857, -0.857, -1.7015, -1.4947, -0.857, -2.0777, -0.857, -1.6125, -1.337, 2.4282, 2.4282, 2.4282, 2.4282, 2.4282, 2.3519, 1.9261, 1.4945, 0.7867, -0.2459, -0.381, -0.4179, -0.4443, -0.4443, -0.4783, -0.4783, -0.5274, -0.5274, -0.5274, -0.5619, -0.5619, -0.5625, -0.5625, -0.5625, -0.6253, -0.6253, -0.6254, -0.6476, -0.6476, -0.6476, -0.7817, -0.7857, -0.786, -0.7891, -0.7895, -0.7918, -0.7937, -0.7944, -0.7982, -1.7232, -0.8052, -1.1262, -1.2756, -2.1394, -2.448, -1.5264, -2.5784, -1.1765, -0.8021, -0.8021, -1.1404, 2.5234, 2.5234, 2.5234, 2.5234, 1.9655, 1.8092, 1.2349, 0.665, -0.1195, -0.2546, -0.2915, -0.3179, -0.3179, -0.3519, -0.3519, -0.401, -0.401, -0.401, -0.4355, -0.4355, -0.4361, -0.4361, -0.4361, -0.49, -0.49, -0.49, -0.49, -0.49, -0.4989, -0.4989, -1.0501, -0.6757, -0.6757, -1.014, -0.6757, -0.6757, -2.0927, -1.0144, -0.6757, -0.6757, -0.6757, -1.3063, -1.5203, -1.3135, -0.6757, -1.8965, -0.6757, -1.4313, -1.1558, -0.6757, -0.6757, 2.5234, 2.5234, 2.5234, 2.5234, 2.5234, 2.5234, 2.5234, 2.5234, 1.348, -0.1195, -0.2546, -0.2915, -0.3179, -0.3179, -0.3519, -0.3519, -0.401, -0.401, -0.401, -0.4355, -0.4355, -0.4361, -0.4361, -0.4361, -0.49, -0.49, -0.49, -0.49, -0.49, -0.4989, -1.0501, -0.6757, -0.6757, -1.014, -0.6757, -0.6757, -2.0927, -1.0144, -0.6757, -0.6757, -0.6757, -1.3063, -1.5203, -1.3135, -0.6757, -1.8965, -0.6757, -1.4313, -1.1558, -0.6757, -0.6757, 2.6134, 2.6131, 2.6127, 2.0617, 1.9389, 1.019, 0.9805, 0.7323, -0.0492, -0.1843, -0.2212, -0.2475, -0.2475, -0.2815, -0.2815, -0.3307, -0.3307, -0.3307, -0.3652, -0.3652, -0.3658, -0.3658, -0.3658, -0.4196, -0.4196, -0.4196, -0.4196, -0.4196, -0.4508, -0.4508, -0.6054, -0.6054, -0.9437, -0.6054, -0.6054, -0.944, -0.6054, -0.6054, -0.6054, -1.2359, -1.4499, -1.2431, -0.6054, -1.8262, -0.6054, -1.3609, -1.0854, -0.6054, -0.6054, -1.115, 2.6769, 2.6769, 2.6769, 2.0987, 2.0821, 1.8068, 1.7996, 0.6343, -0.051, -0.1861, -0.223, -0.2494, -0.2494, -0.2834, -0.2834, -0.3325, -0.3325, -0.3325, -0.367, -0.367, -0.4214, -0.4214, -0.4214, -0.4214, -0.4214, -0.4304, -0.4304, -0.4304, -0.4526, -0.4526, -0.9816, -0.6072, -0.6072, -0.9455, -0.6072, -0.6072, -2.0242, -0.6072, -0.6072, -0.6072, -1.4518, -0.6072, -1.828, -0.6072, -1.3628, -1.0872, -0.6072, -0.6072, -1.1038, -1.1168, 2.7491, 2.7491, 2.6833, 2.6683, 2.1706, 0.0206, -0.1145, -0.1514, -0.1778, -0.1778, -0.2118, -0.2118, -0.2609, -0.2609, -0.2609, -0.2935, -0.296, -0.296, -0.296, -0.3007, -0.3074, -0.3498, -0.3498, -0.3498, -0.3498, -0.3498, -0.381, -0.381, -0.381, -0.381, -0.8467, -1.8887, -1.9306, -2.1779, -0.5356, -0.5356, -0.5356, -0.5356, -0.8742, -0.5356, -0.5356, -0.5356, -1.1662, -1.3802, -1.1734, -0.5356, -1.7564, -0.5356, -1.2912, -1.0156, -0.5356, -0.5356, 2.9513, 2.9513, 2.9513, 1.832, 1.2596, 0.1883, 0.0531, 0.0162, -0.0101, -0.0101, -0.0441, -0.0441, -0.1278, -0.1278, -0.1284, -0.1284, -0.1284, -0.1822, -0.1822, -0.1822, -0.1822, -0.1822, -0.1912, -0.1912, -0.1912, -0.2134, -0.2134, -0.2134, -0.2134, -0.2134, -1.5888, -0.848, -0.368, -0.7063, -0.7066, -0.368, -0.368, -1.1235, -0.368, -0.7423, -0.368, -0.368, -0.368, -0.368, -0.9985, -0.368, -1.0057, -0.368, -0.368, -0.8645, -0.8776, -0.9275, 3.0948, 3.0948, 2.2641, 2.2639, 0.2827, 0.1475, 0.1107, 0.0843, 0.0843, 0.0011, 0.0011, 0.0011, -0.0334, -0.0334, -0.0339, -0.0339, -0.0339, -0.0878, -0.0878, -0.0878, -0.0878, -0.0878, -0.0968, -0.0968, -0.0968, -0.119, -0.119, -0.119, -0.119, -0.119, -0.6479, -0.2736, -0.2736, -0.6119, -0.2736, -0.2736, -1.6905, -0.6122, -0.2736, -0.2736, -0.2736, -0.9041, -1.1181, -0.9113, -0.2736, -1.4944, -0.2736, -1.0291, -0.7536, -0.2736, -0.2736, -0.7701, -0.7832, 3.1288, 3.1288, 2.5552, 0.968, 0.2827, 0.1475, 0.1107, 0.0503, 0.0503, 0.0011, 0.0011, 0.0011, -0.0334, -0.0334, -0.0339, -0.0339, -0.0339, -0.0878, -0.0878, -0.0878, -0.0878, -0.0878, -0.0968, -0.0968, -0.0968, -0.119, -0.119, -0.119, -0.119, -0.119, -0.6479, -0.2736, -0.2736, -0.6119, -0.2736, -0.2736, -1.6905, -0.6122, -0.2736, -0.2736, -0.2736, -0.9041, -1.1181, -0.9113, -0.2736, -1.4944, -0.2736, -1.0291, -0.7536, -0.2736, -0.2736, -0.7701, -0.7832, 3.2594, 2.3684, 2.3682, 0.3869, 0.2518, 0.1885, 0.1885, 0.1545, 0.1545, 0.1054, 0.1054, 0.1054, 0.0709, 0.0709, 0.0703, 0.0703, 0.0703, 0.0165, 0.0165, 0.0165, 0.0165, 0.0165, 0.0075, 0.0075, 0.0075, -0.0147, -0.0147, -0.0147, -0.0147, -0.0147, -0.5437, -0.1693, -0.1693, -0.5076, -0.1693, -0.1693, -1.5863, -0.5079, -0.1693, -0.1693, -0.1693, -0.7999, -1.0139, -0.8071, -0.1693, -1.3901, -0.1693, -0.9249, -0.6493, -0.1693, -0.1693, -0.6659, -0.6789, -0.7289, 3.2963, 2.0307, 1.4583, 0.3869, 0.2149, 0.1885, 0.1885, 0.1545, 0.1545, 0.1054, 0.1054, 0.1054, 0.0709, 0.0709, 0.0703, 0.0703, 0.0703, 0.0165, 0.0165, 0.0165, 0.0165, 0.0165, 0.0075, 0.0075, 0.0075, -0.0147, -0.0147, -0.0147, -0.0147, -0.0147, -0.5437, -0.1693, -0.1693, -0.5076, -0.1693, -0.1693, -0.5079, -0.1693, -0.1693, -0.1693, -0.7999, -0.8071, -0.1693, -1.3901, -0.1693, -0.9249, -0.6493, -0.1693, -0.1693, -0.6659, -0.6789, -0.7289, -1.625, 3.6796, 0.5, 0.4631, 0.4367, 0.4367, 0.4027, 0.4027, 0.3536, 0.3536, 0.3536, 0.3191, 0.3191, 0.3185, 0.3185, 0.3185, 0.2646, 0.2646, 0.2646, 0.2646, 0.2646, 0.2557, 0.2557, 0.2556, 0.2334, 0.2334, 0.2334, 0.2334, 0.2334, 0.2334, 0.2334, -0.2955, 0.0789, 0.0789, -0.2594, 0.0789, 0.0789, -1.3381, -0.2598, 0.0789, 0.0789, 0.0789, -0.5517, -0.7657, -0.5589, 0.0789, -1.1419, 0.0789, -0.6767, -0.4012, 0.0789, 0.0789, -0.4177, -0.4307, -0.4807, -1.3768, 2.2788, 0.6351, 0.5, 0.4631, 0.4367, 0.4367, 0.4027, 0.4027, 0.3536, 0.3536, 0.3536, 0.3191, 0.3191, 0.3185, 0.3185, 0.3185, 0.2646, 0.2646, 0.2646, 0.2646, 0.2646, 0.2557, 0.2557, 0.2556, 0.2334, 0.2334, 0.2334, 0.2334, 0.2334, 0.2334, -0.2955, 0.0789, 0.0789, -0.2594, 0.0789, 0.0789, -1.3381, -0.2598, 0.0789, 0.0789, 0.0789, -0.5517, -0.5589, 0.0789, -1.1419, 0.0789, -0.6767, -0.4012, 0.0789, 0.0789, -0.4177, -0.4307, -0.4807, -1.3768, 0.7869, 0.6518, 0.6149, 0.5885, 0.5885, 0.5545, 0.5545, 0.5054, 0.5054, 0.5054, 0.4709, 0.4709, 0.4703, 0.4703, 0.4703, 0.4164, 0.4164, 0.4164, 0.4164, 0.4164, 0.4075, 0.4075, 0.4074, 0.3852, 0.3852, 0.3852, 0.3852, 0.3852, 0.3852, 0.3852, -0.1437, 0.2307, 0.2307, -0.1076, 0.2307, 0.2307, -1.1863, -0.108, 0.2307, 0.2307, 0.2307, -0.3999, -0.6139, -0.4071, 0.2307, -0.9901, 0.2307, -0.5249, -0.2493, 0.2307, 0.2307, -0.2659, -0.2789, -0.3289, -1.225, 0.7869, 0.6518, 0.6149, 0.5885, 0.5885, 0.5545, 0.5545, 0.5054, 0.5054, 0.5054, 0.4709, 0.4709, 0.4703, 0.4703, 0.4703, 0.4164, 0.4164, 0.4164, 0.4164, 0.4164, 0.4075, 0.4075, 0.4074, 0.3852, 0.3852, 0.3852, 0.3852, 0.3852, 0.3852, 0.3852, -0.1437, 0.2307, 0.2307, -0.1076, 0.2307, 0.2307, -1.1863, -0.108, 0.2307, 0.2307, 0.2307, -0.3999, -0.6139, -0.4071, 0.2307, -0.9901, 0.2307, -0.5249, -0.2493, 0.2307, 0.2307, -0.2659, -0.2789, -0.3289, -1.225]}, \"token.table\": {\"Topic\": [2, 9, 1, 1, 3, 1, 8, 1, 5, 6, 8, 6, 2, 1, 8, 7, 7, 2, 2, 11, 1, 12, 10, 10, 1, 2, 1, 2, 1, 2, 4, 6, 9, 12, 2, 10, 8, 1, 3, 1, 1, 5, 5, 1, 2, 2, 1, 9, 11, 1, 2, 8, 4, 9, 1, 3, 11, 3, 2, 5, 10, 5, 3, 6, 12, 8, 1, 1, 2, 4, 12, 9, 1, 6, 7, 3, 1, 5, 1, 3, 1, 1, 1, 1, 1, 12, 1, 3, 6, 9, 2, 4, 10, 2, 2, 3, 1, 8, 8, 2, 6, 1, 3, 4, 5, 7, 10, 3, 1, 1, 5, 6, 1, 3, 5, 7, 10, 1, 2, 4, 1, 1, 2, 1, 2, 4, 4, 1, 11, 4, 5, 1, 2, 1, 7, 5, 1, 4, 1, 3, 7, 9, 1, 7, 6, 1, 10, 3, 4, 8, 3, 5, 11, 1, 1, 9], \"Freq\": [0.5180031060877015, 0.5180031060877015, 0.7359573002152231, 0.7356785476465448, 0.813825644239653, 0.8141315879953636, 0.27137719599845456, 0.7356785476465448, 0.8763021867786829, 0.9069572422815801, 0.879106452011437, 0.9069572422815801, 0.7531907481887273, 0.7359347738060447, 0.8791063974260079, 0.879106319011225, 0.879106319011225, 0.7531907335555039, 0.5370115887039925, 0.5370115887039925, 0.7359018883995527, 0.9913233343004051, 0.9571469776194232, 0.9571469776194232, 0.7356785476465448, 0.7531907452620825, 0.7356785476465448, 0.7531907145323142, 0.18261495832602373, 0.18261495832602373, 0.18261495832602373, 0.18261495832602373, 0.18261495832602373, 0.18261495832602373, 0.5368419424330292, 0.5368419424330292, 0.879106452011437, 0.7356785476465448, 0.813825644239653, 0.7356785476465448, 0.8130314334767993, 0.2710104778255998, 0.8763021867786829, 0.7358209909663127, 0.7531907291655369, 0.7531907350188263, 0.7356785476465448, 0.45841692565019604, 0.45841692565019604, 0.4537347303065869, 0.7531907555053392, 0.8791063974260079, 0.8626720733170408, 0.898847964035062, 0.56123024795263, 0.18707674931754334, 0.9576863841075949, 0.813825644239653, 0.40093119572554553, 0.40093119572554553, 0.40093119572554553, 0.8763021867786829, 0.5489554916262351, 0.5489554916262351, 0.9913233343004051, 0.8791063974260079, 0.7359876660975063, 0.4536452245536344, 0.3236879907309624, 0.3236879907309624, 0.3236879907309624, 0.898828551912468, 0.7356785476465448, 0.4304273141347559, 0.4304273141347559, 0.6070412451685521, 0.7356785476465448, 0.8763021867786829, 0.7356785476465448, 0.813825644239653, 0.7356785476465448, 0.7356785476465448, 0.7356785476465448, 0.7356785476465448, 0.7356785476465448, 0.9913233343004051, 0.5270328090015144, 0.1756776030005048, 0.1756776030005048, 0.1756776030005048, 0.3980537231729696, 0.3980537231729696, 0.3980537231729696, 0.7531907481887273, 0.6665687697988373, 0.22218958993294577, 0.7359317676671221, 0.8791063974260079, 0.8791063974260079, 0.7531907452620825, 0.9069572422815801, 0.2976838245707795, 0.2976838245707795, 0.2976838245707795, 0.2976838245707795, 0.879106319011225, 0.9571469776194232, 0.813825644239653, 0.7356785476465448, 0.502326460374032, 0.502326460374032, 0.9069572422815801, 0.3723953446113336, 0.24826356307422243, 0.12413178153711121, 0.12413178153711121, 0.12413178153711121, 0.35381534470285514, 0.35381534470285514, 0.35381534470285514, 0.7359591379729543, 0.7356785476465448, 0.9321145729049916, 0.7358699209106258, 0.7531907467254049, 0.8626720733170408, 0.8626720733170408, 0.7358971286576933, 0.9576863841075949, 0.8626720733170408, 0.8763021867786829, 0.7356785476465448, 0.7531907569686617, 0.7356785476465448, 0.879106319011225, 0.8763021867786829, 0.7356785476465448, 0.8626720733170408, 0.41123827332735224, 0.2741588488849015, 0.13707942444245075, 0.13707942444245075, 0.5032466347327221, 0.5032466347327221, 0.9069572422815801, 0.5279989625920398, 0.5279989625920398, 0.25665688246266377, 0.5133137649253275, 0.8791063974260079, 0.813825644239653, 0.4524675164778155, 0.4524675164778155, 0.7359153145242002, 0.7356785476465448, 0.8988692751006597], \"Term\": [\"able\", \"able\", \"agenda\", \"always\", \"answer\", \"app\", \"app\", \"arrive\", \"attention\", \"back\", \"basically\", \"be\", \"belief\", \"bore\", \"bored\", \"bring\", \"cause\", \"certain\", \"chaotic\", \"chaotic\", \"chill\", \"come\", \"comeback\", \"compare\", \"conclusion\", \"conflict\", \"confusion\", \"connection\", \"conversation\", \"conversation\", \"conversation\", \"conversation\", \"conversation\", \"conversation\", \"converse\", \"converse\", \"cope\", \"day\", \"depend\", \"develop\", \"difficult\", \"difficult\", \"divide\", \"else\", \"end\", \"expectation\", \"extreme\", \"feel\", \"feel\", \"find\", \"form\", \"freak\", \"free\", \"genuinely\", \"get\", \"get\", \"ghostin\", \"give\", \"good\", \"good\", \"good\", \"hang\", \"hard\", \"hard\", \"hold\", \"illness\", \"instead\", \"interest\", \"interesting\", \"interesting\", \"interesting\", \"invest\", \"juggle\", \"keep\", \"keep\", \"know\", \"last\", \"leave\", \"level\", \"lifetime\", \"listing\", \"little\", \"lot\", \"low\", \"make\", \"man\", \"many\", \"many\", \"many\", \"many\", \"match\", \"match\", \"match\", \"matching\", \"may\", \"may\", \"meet\", \"mental\", \"mind\", \"mine\", \"mix\", \"much\", \"much\", \"much\", \"much\", \"multiple\", \"multitaske\", \"new\", \"none\", \"option\", \"option\", \"overwhelming\", \"people\", \"people\", \"people\", \"people\", \"people\", \"person\", \"person\", \"person\", \"pick\", \"possiblity\", \"probably\", \"proceed\", \"profile\", \"quality\", \"quantity\", \"quaratine\", \"really\", \"reply\", \"rude\", \"say\", \"seem\", \"short\", \"shortlisting\", \"sound\", \"stranger\", \"take\", \"talk\", \"talk\", \"talk\", \"talk\", \"tedious\", \"tedious\", \"tend\", \"thing\", \"thing\", \"time\", \"time\", \"use\", \"useful\", \"want\", \"want\", \"work\", \"would\", \"wrong\"]}, \"R\": 30, \"lambda.step\": 0.01, \"plot.opts\": {\"xlab\": \"PC1\", \"ylab\": \"PC2\"}, \"topic.order\": [6, 17, 16, 14, 9, 15, 13, 18, 10, 20, 5, 2, 19, 3, 11, 1, 8, 4, 7, 12]};\n",
              "\n",
              "function LDAvis_load_lib(url, callback){\n",
              "  var s = document.createElement('script');\n",
              "  s.src = url;\n",
              "  s.async = true;\n",
              "  s.onreadystatechange = s.onload = callback;\n",
              "  s.onerror = function(){console.warn(\"failed to load library \" + url);};\n",
              "  document.getElementsByTagName(\"head\")[0].appendChild(s);\n",
              "}\n",
              "\n",
              "if(typeof(LDAvis) !== \"undefined\"){\n",
              "   // already loaded: just create the visualization\n",
              "   !function(LDAvis){\n",
              "       new LDAvis(\"#\" + \"ldavis_el591403412083394081294065981\", ldavis_el591403412083394081294065981_data);\n",
              "   }(LDAvis);\n",
              "}else if(typeof define === \"function\" && define.amd){\n",
              "   // require.js is available: use it to load d3/LDAvis\n",
              "   require.config({paths: {d3: \"https://d3js.org/d3.v5\"}});\n",
              "   require([\"d3\"], function(d3){\n",
              "      window.d3 = d3;\n",
              "      LDAvis_load_lib(\"https://cdn.jsdelivr.net/gh/bmabey/pyLDAvis@3.2.2/pyLDAvis/js/ldavis.v3.0.0.js\", function(){\n",
              "        new LDAvis(\"#\" + \"ldavis_el591403412083394081294065981\", ldavis_el591403412083394081294065981_data);\n",
              "      });\n",
              "    });\n",
              "}else{\n",
              "    // require.js not available: dynamically load d3 & LDAvis\n",
              "    LDAvis_load_lib(\"https://d3js.org/d3.v5.js\", function(){\n",
              "         LDAvis_load_lib(\"https://cdn.jsdelivr.net/gh/bmabey/pyLDAvis@3.2.2/pyLDAvis/js/ldavis.v3.0.0.js\", function(){\n",
              "                 new LDAvis(\"#\" + \"ldavis_el591403412083394081294065981\", ldavis_el591403412083394081294065981_data);\n",
              "            })\n",
              "         });\n",
              "}\n",
              "</script>"
            ],
            "text/plain": [
              "PreparedData(topic_coordinates=              x         y  topics  cluster       Freq\n",
              "topic                                                \n",
              "5     -0.184623  0.005626       1        1  27.097183\n",
              "16     0.204930 -0.064702       2        1  12.470093\n",
              "15    -0.178794 -0.144728       3        1   9.904610\n",
              "13     0.085648 -0.121441       4        1   6.080897\n",
              "8     -0.051684  0.092103       5        1   5.602551\n",
              "14     0.013955 -0.100830       6        1   4.979729\n",
              "12    -0.117217 -0.008733       7        1   4.647009\n",
              "17     0.025331  0.126650       8        1   4.647009\n",
              "9     -0.007608 -0.068963       9        1   4.160392\n",
              "19     0.004620  0.035864      10        1   3.698213\n",
              "4      0.046715  0.088583      11        1   3.438890\n",
              "1      0.080076 -0.030132      12        1   2.715375\n",
              "18     0.008525  0.070966      13        1   2.231267\n",
              "2     -0.053427  0.021710      14        1   2.072332\n",
              "10     0.005722  0.061497      15        1   1.759354\n",
              "0      0.065205 -0.031085      16        1   1.613299\n",
              "7      0.009287  0.027702      17        1   0.875414\n",
              "3      0.034671  0.004703      18        1   0.875414\n",
              "6      0.004334  0.017606      19        1   0.565484\n",
              "11     0.004334  0.017606      20        1   0.565484, topic_info=            Term      Freq     Total Category  logprob  loglift\n",
              "35        people  8.000000  8.000000  Default   30.000  30.0000\n",
              "6   conversation  5.000000  5.000000  Default   29.000  29.0000\n",
              "12   interesting  3.000000  3.000000  Default   28.000  28.0000\n",
              "36          talk  7.000000  7.000000  Default   27.000  27.0000\n",
              "47          time  3.000000  3.000000  Default   26.000  26.0000\n",
              "..           ...       ...       ...      ...      ...      ...\n",
              "20          seem  0.009456  1.327685  Topic20   -4.804   0.2307\n",
              "22          feel  0.009456  2.181420  Topic20   -4.804  -0.2659\n",
              "24          want  0.009456  2.210103  Topic20   -4.804  -0.2789\n",
              "26          keep  0.009456  2.323273  Topic20   -4.804  -0.3289\n",
              "27          many  0.009456  5.692245  Topic20   -4.804  -1.2250\n",
              "\n",
              "[1036 rows x 6 columns], token_table=      Topic      Freq    Term\n",
              "term                         \n",
              "0         2  0.518003    able\n",
              "0         9  0.518003    able\n",
              "50        1  0.735957  agenda\n",
              "37        1  0.735679  always\n",
              "102       3  0.813826  answer\n",
              "...     ...       ...     ...\n",
              "24        5  0.452468    want\n",
              "24       11  0.452468    want\n",
              "61        1  0.735915    work\n",
              "101       1  0.735679   would\n",
              "108       9  0.898869   wrong\n",
              "\n",
              "[156 rows x 3 columns], R=30, lambda_step=0.01, plot_opts={'xlab': 'PC1', 'ylab': 'PC2'}, topic_order=[6, 17, 16, 14, 9, 15, 13, 18, 10, 20, 5, 2, 19, 3, 11, 1, 8, 4, 7, 12])"
            ]
          },
          "metadata": {
            "tags": []
          },
          "execution_count": 66
        }
      ]
    },
    {
      "cell_type": "code",
      "metadata": {
        "id": "hDGzNJrLtapJ"
      },
      "source": [
        ""
      ],
      "execution_count": null,
      "outputs": []
    }
  ]
}